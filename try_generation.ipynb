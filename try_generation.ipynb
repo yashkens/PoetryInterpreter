{
 "cells": [
  {
   "cell_type": "code",
   "execution_count": 1,
   "id": "dbd89a72",
   "metadata": {
    "scrolled": true
   },
   "outputs": [],
   "source": [
    "from pipeline import PoemCollection\n",
    "from poem_generation import PoemGenerator\n",
    "from analysis_generation import AnalysisGenerator\n",
    "from variables import TOKEN, POEM_START_MODEL_ID, POEM_CONTINUE_MODEL_ID, ANALYSIS_START_MODEL_ID"
   ]
  },
  {
   "cell_type": "markdown",
   "id": "3670e877",
   "metadata": {},
   "source": [
    "### Генерируем поэму"
   ]
  },
  {
   "cell_type": "code",
   "execution_count": 2,
   "id": "23f4dc3d",
   "metadata": {},
   "outputs": [],
   "source": [
    "poem_generator = PoemGenerator(TOKEN, POEM_START_MODEL_ID, POEM_CONTINUE_MODEL_ID, make_longer=True)"
   ]
  },
  {
   "cell_type": "code",
   "execution_count": 3,
   "id": "1b284668",
   "metadata": {},
   "outputs": [],
   "source": [
    "test_poem = poem_generator.generate_poem(stanza_nums=4)"
   ]
  },
  {
   "cell_type": "code",
   "execution_count": 4,
   "id": "69173a56",
   "metadata": {},
   "outputs": [
    {
     "name": "stdout",
     "output_type": "stream",
     "text": [
      "I am a woman, I am not a man,\n",
      "And you should take that to your heart.\n",
      "Let all of you be known as men,\n",
      "Which of them has ever been man?\n",
      "Be you men or you are women,\n",
      "\n",
      "And let it matter why it is.\n",
      "I am an old woman and can sing,\n",
      "But it was never meant I should sing.\n",
      "\n",
      "The world to me means a place for play;\n",
      "And I would be so far from that,\n",
      "My tears should make it weep and moan.\n",
      "\n",
      "And I will wear my crown of joy.\n",
      "In laughter's sake, with heart aglow,\n",
      "I'll lay it on the altar.\n",
      "\n",
      "So he might look upon the face\n",
      "That made him proud, as though he stood\n",
      "Beneath the moon of Paradise.\n"
     ]
    }
   ],
   "source": [
    "print(test_poem)"
   ]
  },
  {
   "cell_type": "markdown",
   "id": "a6943d7c",
   "metadata": {},
   "source": [
    "### Проанализируем поэму"
   ]
  },
  {
   "cell_type": "code",
   "execution_count": 5,
   "id": "5940ed93",
   "metadata": {},
   "outputs": [
    {
     "name": "stdout",
     "output_type": "stream",
     "text": [
      "Loading GPT-J...\n",
      "GPT-J is loaded!\n"
     ]
    }
   ],
   "source": [
    "analysis_generator = AnalysisGenerator(TOKEN, ANALYSIS_START_MODEL_ID)"
   ]
  },
  {
   "cell_type": "code",
   "execution_count": 6,
   "id": "b0e6fd9c",
   "metadata": {},
   "outputs": [
    {
     "name": "stderr",
     "output_type": "stream",
     "text": [
      "The attention mask and the pad token id were not set. As a consequence, you may observe unexpected behavior. Please pass your input's `attention_mask` to obtain reliable results.\n",
      "Setting `pad_token_id` to `eos_token_id`:50256 for open-end generation.\n",
      "The attention mask and the pad token id were not set. As a consequence, you may observe unexpected behavior. Please pass your input's `attention_mask` to obtain reliable results.\n",
      "Setting `pad_token_id` to `eos_token_id`:50256 for open-end generation.\n",
      "The attention mask and the pad token id were not set. As a consequence, you may observe unexpected behavior. Please pass your input's `attention_mask` to obtain reliable results.\n",
      "Setting `pad_token_id` to `eos_token_id`:50256 for open-end generation.\n"
     ]
    }
   ],
   "source": [
    "test_analysis = analysis_generator.generate_analysis(test_poem)"
   ]
  },
  {
   "cell_type": "code",
   "execution_count": 7,
   "id": "0ab9aec0",
   "metadata": {},
   "outputs": [
    {
     "name": "stdout",
     "output_type": "stream",
     "text": [
      "The poem begins when an old lady describes her gender identity as a female. She tries to express her disappointment in the fact that she is often treated as a male counterpart. Thus, she suggests men to recognize the difference between genders. She also criticizes men for their behavior toward women, claiming that men are the ones who should be ashamed of themselves for being so masculine.\n",
      "\n",
      "The second stanza has its own subject. Poem seems to be underappreciated and this lady tries to tell other people about her true self. She tries to tell the same story to all of the men as well. She claims that she can sing, although it was something that she was not supposed to do.\n",
      "\n",
      "The last stanza is mostly just stating that she will be happy and at peace. She will not be ashamed of her gender. She will just be like a child and have fun in whatever way is suited to her. All in all, the poem is very cheerful and hopeful.\n",
      "\n",
      "Poem Quotes:\n",
      "\n",
      "\"I am a woman, I am not a man,\n",
      "And you should take that to your heart.\n"
     ]
    }
   ],
   "source": [
    "print(test_analysis)"
   ]
  },
  {
   "cell_type": "markdown",
   "id": "f9024cd7",
   "metadata": {},
   "source": [
    "### Попробуем это все в пайплайне"
   ]
  },
  {
   "cell_type": "code",
   "execution_count": 8,
   "id": "f7c11f41",
   "metadata": {
    "scrolled": false
   },
   "outputs": [
    {
     "name": "stdout",
     "output_type": "stream",
     "text": [
      "Поэм пока нет: []\n"
     ]
    }
   ],
   "source": [
    "poem_collection = PoemCollection()\n",
    "\n",
    "print(f'Поэм пока нет: {poem_collection.poems}')"
   ]
  },
  {
   "cell_type": "code",
   "execution_count": 9,
   "id": "8a2a5727",
   "metadata": {},
   "outputs": [
    {
     "name": "stderr",
     "output_type": "stream",
     "text": [
      "100%|█████████████████████████████████████████████████████████████████████████████████████| 2/2 [00:56<00:00, 28.41s/it]\n"
     ]
    }
   ],
   "source": [
    "poems = poem_collection.add_poems(num=2, poem_generator=poem_generator)"
   ]
  },
  {
   "cell_type": "code",
   "execution_count": 10,
   "id": "580ab768",
   "metadata": {},
   "outputs": [
    {
     "name": "stdout",
     "output_type": "stream",
     "text": [
      "Poem №1\n",
      "A thousand times I've sung,\n",
      "I'll sing a thousand more\n",
      "With a thousand notes, a smile!\n",
      "A thousand sounds, a tune!\n",
      "\n",
      "As I sing at your feet!\n",
      "The moon wil.....\n",
      "----\n",
      "Poem №2\n",
      "That was the night when a great wind came up,\n",
      "And tore the doors and shutters from their hinges;\n",
      "All in a moment there the sky grew dark,\n",
      "The earth an.....\n",
      "----\n"
     ]
    }
   ],
   "source": [
    "for i, poem in enumerate(poem_collection.poems):\n",
    "    print(f\"Poem №{i+1}\")\n",
    "    print(poem[:150] + '.....')\n",
    "    print('----')"
   ]
  },
  {
   "cell_type": "code",
   "execution_count": 11,
   "id": "5c65bb9a",
   "metadata": {},
   "outputs": [
    {
     "name": "stdout",
     "output_type": "stream",
     "text": [
      "Длина коллекции поэм: 2\n"
     ]
    }
   ],
   "source": [
    "print(f\"Длина коллекции поэм: {len(poem_collection)}\")"
   ]
  },
  {
   "cell_type": "markdown",
   "id": "8c3327a3",
   "metadata": {},
   "source": [
    "Мы еще не просили проанализировать добавленные поэмы, поэтому некоторые функции выдадут ошибки;  \n",
    "Комментарии к поэмам не публичны, но мы все равно посмотрим, что их нет:"
   ]
  },
  {
   "cell_type": "code",
   "execution_count": 12,
   "id": "b5949a08",
   "metadata": {},
   "outputs": [
    {
     "data": {
      "text/plain": [
       "[]"
      ]
     },
     "execution_count": 12,
     "metadata": {},
     "output_type": "execute_result"
    }
   ],
   "source": [
    "poem_collection._analyzes"
   ]
  },
  {
   "cell_type": "code",
   "execution_count": 13,
   "id": "bc887098",
   "metadata": {},
   "outputs": [
    {
     "ename": "Exception",
     "evalue": "Number of analyzes is not equal to number of poems!\nPoems: 2; Analyzes: 0",
     "output_type": "error",
     "traceback": [
      "\u001b[0;31m---------------------------------------------------------------------------\u001b[0m",
      "\u001b[0;31mException\u001b[0m                                 Traceback (most recent call last)",
      "\u001b[0;32m/tmp/ipykernel_2983219/2776676202.py\u001b[0m in \u001b[0;36m<module>\u001b[0;34m\u001b[0m\n\u001b[0;32m----> 1\u001b[0;31m \u001b[0mpoem_collection\u001b[0m\u001b[0;34m.\u001b[0m\u001b[0mformat_into_latex\u001b[0m\u001b[0;34m(\u001b[0m\u001b[0;34m)\u001b[0m\u001b[0;34m\u001b[0m\u001b[0;34m\u001b[0m\u001b[0m\n\u001b[0m",
      "\u001b[0;32m/cephfs/home/yashkens/NoMeaning/pipeline.py\u001b[0m in \u001b[0;36mformat_into_latex\u001b[0;34m(self)\u001b[0m\n\u001b[1;32m     72\u001b[0m     \u001b[0;32mdef\u001b[0m \u001b[0mformat_into_latex\u001b[0m\u001b[0;34m(\u001b[0m\u001b[0mself\u001b[0m\u001b[0;34m)\u001b[0m \u001b[0;34m->\u001b[0m \u001b[0mList\u001b[0m\u001b[0;34m[\u001b[0m\u001b[0mstr\u001b[0m\u001b[0;34m]\u001b[0m\u001b[0;34m:\u001b[0m\u001b[0;34m\u001b[0m\u001b[0;34m\u001b[0m\u001b[0m\n\u001b[1;32m     73\u001b[0m         \u001b[0;32mif\u001b[0m \u001b[0mlen\u001b[0m\u001b[0;34m(\u001b[0m\u001b[0mself\u001b[0m\u001b[0;34m.\u001b[0m\u001b[0m_analyzes\u001b[0m\u001b[0;34m)\u001b[0m \u001b[0;34m!=\u001b[0m \u001b[0mlen\u001b[0m\u001b[0;34m(\u001b[0m\u001b[0mself\u001b[0m\u001b[0;34m.\u001b[0m\u001b[0mpoems\u001b[0m\u001b[0;34m)\u001b[0m\u001b[0;34m:\u001b[0m\u001b[0;34m\u001b[0m\u001b[0;34m\u001b[0m\u001b[0m\n\u001b[0;32m---> 74\u001b[0;31m             raise Exception(f\"Number of analyzes is not equal to number of poems!\\n\"\n\u001b[0m\u001b[1;32m     75\u001b[0m                             f\"Poems: {len(self.poems) }; Analyzes: {len(self._analyzes)}\")\n\u001b[1;32m     76\u001b[0m \u001b[0;34m\u001b[0m\u001b[0m\n",
      "\u001b[0;31mException\u001b[0m: Number of analyzes is not equal to number of poems!\nPoems: 2; Analyzes: 0"
     ]
    }
   ],
   "source": [
    "poem_collection.format_into_latex()"
   ]
  },
  {
   "cell_type": "code",
   "execution_count": 14,
   "id": "39d4abf5",
   "metadata": {},
   "outputs": [
    {
     "ename": "Exception",
     "evalue": "Number of analyzes is not equal to number of poems!\nPoems: 2; Analyzes: 0",
     "output_type": "error",
     "traceback": [
      "\u001b[0;31m---------------------------------------------------------------------------\u001b[0m",
      "\u001b[0;31mException\u001b[0m                                 Traceback (most recent call last)",
      "\u001b[0;32m/tmp/ipykernel_2983219/2391492225.py\u001b[0m in \u001b[0;36m<module>\u001b[0;34m\u001b[0m\n\u001b[0;32m----> 1\u001b[0;31m \u001b[0mpoem_collection\u001b[0m\u001b[0;34m.\u001b[0m\u001b[0msave_to_latex\u001b[0m\u001b[0;34m(\u001b[0m\u001b[0msave_path\u001b[0m\u001b[0;34m=\u001b[0m\u001b[0;34m'fake_path.txt'\u001b[0m\u001b[0;34m)\u001b[0m\u001b[0;34m\u001b[0m\u001b[0;34m\u001b[0m\u001b[0m\n\u001b[0m",
      "\u001b[0;32m/cephfs/home/yashkens/NoMeaning/pipeline.py\u001b[0m in \u001b[0;36msave_to_latex\u001b[0;34m(self, save_path)\u001b[0m\n\u001b[1;32m     53\u001b[0m     \u001b[0;32mdef\u001b[0m \u001b[0msave_to_latex\u001b[0m\u001b[0;34m(\u001b[0m\u001b[0mself\u001b[0m\u001b[0;34m,\u001b[0m \u001b[0msave_path\u001b[0m\u001b[0;34m:\u001b[0m \u001b[0mstr\u001b[0m\u001b[0;34m)\u001b[0m \u001b[0;34m->\u001b[0m \u001b[0;32mNone\u001b[0m\u001b[0;34m:\u001b[0m\u001b[0;34m\u001b[0m\u001b[0;34m\u001b[0m\u001b[0m\n\u001b[1;32m     54\u001b[0m         \u001b[0;32mif\u001b[0m \u001b[0mlen\u001b[0m\u001b[0;34m(\u001b[0m\u001b[0mself\u001b[0m\u001b[0;34m.\u001b[0m\u001b[0m_analyzes\u001b[0m\u001b[0;34m)\u001b[0m \u001b[0;34m!=\u001b[0m \u001b[0mlen\u001b[0m\u001b[0;34m(\u001b[0m\u001b[0mself\u001b[0m\u001b[0;34m.\u001b[0m\u001b[0mpoems\u001b[0m\u001b[0;34m)\u001b[0m\u001b[0;34m:\u001b[0m\u001b[0;34m\u001b[0m\u001b[0;34m\u001b[0m\u001b[0m\n\u001b[0;32m---> 55\u001b[0;31m             \u001b[0mself\u001b[0m\u001b[0;34m.\u001b[0m\u001b[0mformat_into_latex\u001b[0m\u001b[0;34m(\u001b[0m\u001b[0;34m)\u001b[0m\u001b[0;34m\u001b[0m\u001b[0;34m\u001b[0m\u001b[0m\n\u001b[0m\u001b[1;32m     56\u001b[0m         \u001b[0mfull_latex\u001b[0m \u001b[0;34m=\u001b[0m \u001b[0;34m'\\n\\n\\\\newpage\\n\\n'\u001b[0m\u001b[0;34m.\u001b[0m\u001b[0mjoin\u001b[0m\u001b[0;34m(\u001b[0m\u001b[0mself\u001b[0m\u001b[0;34m.\u001b[0m\u001b[0m_latex_texts\u001b[0m\u001b[0;34m)\u001b[0m\u001b[0;34m\u001b[0m\u001b[0;34m\u001b[0m\u001b[0m\n\u001b[1;32m     57\u001b[0m         \u001b[0;32mwith\u001b[0m \u001b[0mopen\u001b[0m\u001b[0;34m(\u001b[0m\u001b[0msave_path\u001b[0m\u001b[0;34m,\u001b[0m \u001b[0;34m'w'\u001b[0m\u001b[0;34m,\u001b[0m \u001b[0mencoding\u001b[0m\u001b[0;34m=\u001b[0m\u001b[0;34m'utf-8'\u001b[0m\u001b[0;34m)\u001b[0m \u001b[0;32mas\u001b[0m \u001b[0mf\u001b[0m\u001b[0;34m:\u001b[0m\u001b[0;34m\u001b[0m\u001b[0;34m\u001b[0m\u001b[0m\n",
      "\u001b[0;32m/cephfs/home/yashkens/NoMeaning/pipeline.py\u001b[0m in \u001b[0;36mformat_into_latex\u001b[0;34m(self)\u001b[0m\n\u001b[1;32m     72\u001b[0m     \u001b[0;32mdef\u001b[0m \u001b[0mformat_into_latex\u001b[0m\u001b[0;34m(\u001b[0m\u001b[0mself\u001b[0m\u001b[0;34m)\u001b[0m \u001b[0;34m->\u001b[0m \u001b[0mList\u001b[0m\u001b[0;34m[\u001b[0m\u001b[0mstr\u001b[0m\u001b[0;34m]\u001b[0m\u001b[0;34m:\u001b[0m\u001b[0;34m\u001b[0m\u001b[0;34m\u001b[0m\u001b[0m\n\u001b[1;32m     73\u001b[0m         \u001b[0;32mif\u001b[0m \u001b[0mlen\u001b[0m\u001b[0;34m(\u001b[0m\u001b[0mself\u001b[0m\u001b[0;34m.\u001b[0m\u001b[0m_analyzes\u001b[0m\u001b[0;34m)\u001b[0m \u001b[0;34m!=\u001b[0m \u001b[0mlen\u001b[0m\u001b[0;34m(\u001b[0m\u001b[0mself\u001b[0m\u001b[0;34m.\u001b[0m\u001b[0mpoems\u001b[0m\u001b[0;34m)\u001b[0m\u001b[0;34m:\u001b[0m\u001b[0;34m\u001b[0m\u001b[0;34m\u001b[0m\u001b[0m\n\u001b[0;32m---> 74\u001b[0;31m             raise Exception(f\"Number of analyzes is not equal to number of poems!\\n\"\n\u001b[0m\u001b[1;32m     75\u001b[0m                             f\"Poems: {len(self.poems) }; Analyzes: {len(self._analyzes)}\")\n\u001b[1;32m     76\u001b[0m \u001b[0;34m\u001b[0m\u001b[0m\n",
      "\u001b[0;31mException\u001b[0m: Number of analyzes is not equal to number of poems!\nPoems: 2; Analyzes: 0"
     ]
    }
   ],
   "source": [
    "poem_collection.save_to_latex(save_path='fake_path.txt')"
   ]
  },
  {
   "cell_type": "markdown",
   "id": "b6a210db",
   "metadata": {},
   "source": [
    "Сгенерируем комментарии к поэмам"
   ]
  },
  {
   "cell_type": "code",
   "execution_count": 15,
   "id": "afc445db",
   "metadata": {},
   "outputs": [
    {
     "name": "stderr",
     "output_type": "stream",
     "text": [
      "  0%|                                                                                             | 0/2 [00:00<?, ?it/s]The attention mask and the pad token id were not set. As a consequence, you may observe unexpected behavior. Please pass your input's `attention_mask` to obtain reliable results.\n",
      "Setting `pad_token_id` to `eos_token_id`:50256 for open-end generation.\n",
      "The attention mask and the pad token id were not set. As a consequence, you may observe unexpected behavior. Please pass your input's `attention_mask` to obtain reliable results.\n",
      "Setting `pad_token_id` to `eos_token_id`:50256 for open-end generation.\n",
      "The attention mask and the pad token id were not set. As a consequence, you may observe unexpected behavior. Please pass your input's `attention_mask` to obtain reliable results.\n",
      "Setting `pad_token_id` to `eos_token_id`:50256 for open-end generation.\n",
      " 50%|██████████████████████████████████████████▌                                          | 1/2 [00:25<00:25, 25.09s/it]The attention mask and the pad token id were not set. As a consequence, you may observe unexpected behavior. Please pass your input's `attention_mask` to obtain reliable results.\n",
      "Setting `pad_token_id` to `eos_token_id`:50256 for open-end generation.\n",
      "The attention mask and the pad token id were not set. As a consequence, you may observe unexpected behavior. Please pass your input's `attention_mask` to obtain reliable results.\n",
      "Setting `pad_token_id` to `eos_token_id`:50256 for open-end generation.\n",
      "The attention mask and the pad token id were not set. As a consequence, you may observe unexpected behavior. Please pass your input's `attention_mask` to obtain reliable results.\n",
      "Setting `pad_token_id` to `eos_token_id`:50256 for open-end generation.\n",
      "100%|█████████████████████████████████████████████████████████████████████████████████████| 2/2 [00:46<00:00, 23.49s/it]\n"
     ]
    }
   ],
   "source": [
    "analyzes = poem_collection.analyze(analysis_generator)"
   ]
  },
  {
   "cell_type": "code",
   "execution_count": 16,
   "id": "3d15375b",
   "metadata": {},
   "outputs": [
    {
     "name": "stdout",
     "output_type": "stream",
     "text": [
      "Analysis for Poem №1\n",
      "The poem opens with the speaker expressing a sense of insecurity over his love interest. He says, “A thousand times, I have sung to her, and I will si.....\n",
      "----\n",
      "Analysis for Poem №2\n",
      "The speaker narrates a tragic event involving a storm and the loss of a family member. He states that the incident occurred one night in December betw.....\n",
      "----\n"
     ]
    }
   ],
   "source": [
    "for i, poem in enumerate(analyzes):\n",
    "    print(f\"Analysis for Poem №{i+1}\")\n",
    "    print(poem[:150] + '.....')\n",
    "    print('----')"
   ]
  },
  {
   "cell_type": "markdown",
   "id": "3f8245cd",
   "metadata": {},
   "source": [
    "Попробуем все сохранить в файлы"
   ]
  },
  {
   "cell_type": "code",
   "execution_count": 18,
   "id": "774a127e",
   "metadata": {},
   "outputs": [],
   "source": [
    "poem_collection.save_poems(save_path='test_poems.txt', sep='\\n#####\\n')\n",
    "poem_collection.save_analyzes(save_path='test_analyzes.txt', sep='\\n#####\\n')\n",
    "poem_collection.save_poem_with_analyzes(save_path='test_analyzed_poems.txt', sep='\\n#####\\n')"
   ]
  },
  {
   "cell_type": "markdown",
   "id": "659d74a4",
   "metadata": {},
   "source": [
    "Подготовим все в latex формате"
   ]
  },
  {
   "cell_type": "code",
   "execution_count": 19,
   "id": "d5355c64",
   "metadata": {},
   "outputs": [
    {
     "data": {
      "text/plain": [
       "[]"
      ]
     },
     "execution_count": 19,
     "metadata": {},
     "output_type": "execute_result"
    }
   ],
   "source": [
    "poem_collection._latex_texts"
   ]
  },
  {
   "cell_type": "code",
   "execution_count": 20,
   "id": "88634579",
   "metadata": {},
   "outputs": [
    {
     "name": "stderr",
     "output_type": "stream",
     "text": [
      "100%|████████████████████████████████████████████████████████████████████████████████████| 2/2 [00:00<00:00, 307.59it/s]\n"
     ]
    }
   ],
   "source": [
    "latex_format_texts = poem_collection.format_into_latex()"
   ]
  },
  {
   "cell_type": "code",
   "execution_count": 21,
   "id": "c309bf91",
   "metadata": {},
   "outputs": [
    {
     "name": "stdout",
     "output_type": "stream",
     "text": [
      "Latex text №1\n",
      "\\begin{center}\n",
      "\\\\\\textit{A thousand times I've sung,}\n",
      "\\\\\\textit{I'll sing a thousand more}\n",
      "\\\\\\textit.....\n",
      "----\n",
      "Latex text №2\n",
      "\\begin{center}\n",
      "\\\\\\textit{That was the night when a great wind came up,}\n",
      "\\\\\\textit{And tore the doors.....\n",
      "----\n"
     ]
    }
   ],
   "source": [
    "for i, poem in enumerate(latex_format_texts):\n",
    "    print(f\"Latex text №{i+1}\")\n",
    "    print(poem[:100] + '.....')\n",
    "    print('----')"
   ]
  },
  {
   "cell_type": "markdown",
   "id": "c9a77725",
   "metadata": {},
   "source": [
    "Можем сохранить в latex формате в текстовый файл, только перенести в редактор его придется самостоятельно.  \n",
    "(функция сохранения генерирует latex формат, если он еще не был сконструирован)"
   ]
  },
  {
   "cell_type": "code",
   "execution_count": 22,
   "id": "8949b876",
   "metadata": {},
   "outputs": [],
   "source": [
    "poem_collection.save_to_latex(save_path='test_to_latex.txt')"
   ]
  },
  {
   "cell_type": "markdown",
   "id": "11c403cb",
   "metadata": {},
   "source": [
    "Можно добавить еще поэм, если нужно;  \n",
    "Функция вернет только новые поэмы"
   ]
  },
  {
   "cell_type": "code",
   "execution_count": 23,
   "id": "0491036f",
   "metadata": {},
   "outputs": [
    {
     "name": "stderr",
     "output_type": "stream",
     "text": [
      "100%|█████████████████████████████████████████████████████████████████████████████████████| 2/2 [00:44<00:00, 22.11s/it]\n"
     ]
    }
   ],
   "source": [
    "poems = poem_collection.add_poems(num=2, poem_generator=poem_generator)"
   ]
  },
  {
   "cell_type": "code",
   "execution_count": 24,
   "id": "127d4055",
   "metadata": {},
   "outputs": [
    {
     "name": "stdout",
     "output_type": "stream",
     "text": [
      "Поэм всего: 4\n",
      "Новых поэм: 2\n"
     ]
    }
   ],
   "source": [
    "print(f\"Поэм всего: {len(poem_collection)}\")\n",
    "print(f\"Новых поэм: {len(poems)}\")"
   ]
  },
  {
   "cell_type": "markdown",
   "id": "a54e7483",
   "metadata": {},
   "source": [
    "Функции, в которых нужно использовать анализ поэм, дадут ошибку, потому что анализ на новые поэмы мы не сделали"
   ]
  },
  {
   "cell_type": "code",
   "execution_count": 25,
   "id": "dec4ac3a",
   "metadata": {},
   "outputs": [
    {
     "ename": "Exception",
     "evalue": "Number of analyzes is not equal to number of poems!\nPoems: 4; Analyzes: 2",
     "output_type": "error",
     "traceback": [
      "\u001b[0;31m---------------------------------------------------------------------------\u001b[0m",
      "\u001b[0;31mException\u001b[0m                                 Traceback (most recent call last)",
      "\u001b[0;32m/tmp/ipykernel_2983219/482664753.py\u001b[0m in \u001b[0;36m<module>\u001b[0;34m\u001b[0m\n\u001b[0;32m----> 1\u001b[0;31m \u001b[0mpoem_collection\u001b[0m\u001b[0;34m.\u001b[0m\u001b[0msave_poem_with_analyzes\u001b[0m\u001b[0;34m(\u001b[0m\u001b[0msave_path\u001b[0m\u001b[0;34m=\u001b[0m\u001b[0;34m'fake_test.txt'\u001b[0m\u001b[0;34m,\u001b[0m \u001b[0msep\u001b[0m\u001b[0;34m=\u001b[0m\u001b[0;34m'\\n#####\\n'\u001b[0m\u001b[0;34m)\u001b[0m\u001b[0;34m\u001b[0m\u001b[0;34m\u001b[0m\u001b[0m\n\u001b[0m",
      "\u001b[0;32m/cephfs/home/yashkens/NoMeaning/pipeline.py\u001b[0m in \u001b[0;36msave_poem_with_analyzes\u001b[0;34m(self, save_path, sep)\u001b[0m\n\u001b[1;32m     45\u001b[0m     \u001b[0;32mdef\u001b[0m \u001b[0msave_poem_with_analyzes\u001b[0m\u001b[0;34m(\u001b[0m\u001b[0mself\u001b[0m\u001b[0;34m,\u001b[0m \u001b[0msave_path\u001b[0m\u001b[0;34m:\u001b[0m \u001b[0mstr\u001b[0m\u001b[0;34m,\u001b[0m \u001b[0msep\u001b[0m\u001b[0;34m:\u001b[0m \u001b[0mstr\u001b[0m\u001b[0;34m)\u001b[0m \u001b[0;34m->\u001b[0m \u001b[0;32mNone\u001b[0m\u001b[0;34m:\u001b[0m\u001b[0;34m\u001b[0m\u001b[0;34m\u001b[0m\u001b[0m\n\u001b[1;32m     46\u001b[0m         \u001b[0;32mif\u001b[0m \u001b[0mlen\u001b[0m\u001b[0;34m(\u001b[0m\u001b[0mself\u001b[0m\u001b[0;34m.\u001b[0m\u001b[0m_analyzes\u001b[0m\u001b[0;34m)\u001b[0m \u001b[0;34m!=\u001b[0m \u001b[0mlen\u001b[0m\u001b[0;34m(\u001b[0m\u001b[0mself\u001b[0m\u001b[0;34m.\u001b[0m\u001b[0mpoems\u001b[0m\u001b[0;34m)\u001b[0m\u001b[0;34m:\u001b[0m\u001b[0;34m\u001b[0m\u001b[0;34m\u001b[0m\u001b[0m\n\u001b[0;32m---> 47\u001b[0;31m             raise Exception(f\"Number of analyzes is not equal to number of poems!\\n\"\n\u001b[0m\u001b[1;32m     48\u001b[0m                             f\"Poems: {len(self.poems) }; Analyzes: {len(self._analyzes)}\")\n\u001b[1;32m     49\u001b[0m         \u001b[0mtexts\u001b[0m \u001b[0;34m=\u001b[0m \u001b[0;34m[\u001b[0m\u001b[0mself\u001b[0m\u001b[0;34m.\u001b[0m\u001b[0mpoems\u001b[0m\u001b[0;34m[\u001b[0m\u001b[0mi\u001b[0m\u001b[0;34m]\u001b[0m \u001b[0;34m+\u001b[0m \u001b[0;34m'\\n\\nPoem Analysis:\\n\\n'\u001b[0m \u001b[0;34m+\u001b[0m \u001b[0mself\u001b[0m\u001b[0;34m.\u001b[0m\u001b[0m_analyzes\u001b[0m\u001b[0;34m[\u001b[0m\u001b[0mi\u001b[0m\u001b[0;34m]\u001b[0m \u001b[0;32mfor\u001b[0m \u001b[0mi\u001b[0m \u001b[0;32min\u001b[0m \u001b[0mrange\u001b[0m\u001b[0;34m(\u001b[0m\u001b[0mself\u001b[0m\u001b[0;34m.\u001b[0m\u001b[0mn\u001b[0m\u001b[0;34m)\u001b[0m\u001b[0;34m]\u001b[0m\u001b[0;34m\u001b[0m\u001b[0;34m\u001b[0m\u001b[0m\n",
      "\u001b[0;31mException\u001b[0m: Number of analyzes is not equal to number of poems!\nPoems: 4; Analyzes: 2"
     ]
    }
   ],
   "source": [
    "poem_collection.save_poem_with_analyzes(save_path='fake_test.txt', sep='\\n#####\\n')"
   ]
  },
  {
   "cell_type": "markdown",
   "id": "d361d74b",
   "metadata": {},
   "source": [
    "Сгенерируем комментарии к новым поэмам"
   ]
  },
  {
   "cell_type": "code",
   "execution_count": 26,
   "id": "25c059a0",
   "metadata": {},
   "outputs": [
    {
     "name": "stderr",
     "output_type": "stream",
     "text": [
      "  0%|                                                                                             | 0/2 [00:00<?, ?it/s]The attention mask and the pad token id were not set. As a consequence, you may observe unexpected behavior. Please pass your input's `attention_mask` to obtain reliable results.\n",
      "Setting `pad_token_id` to `eos_token_id`:50256 for open-end generation.\n",
      "The attention mask and the pad token id were not set. As a consequence, you may observe unexpected behavior. Please pass your input's `attention_mask` to obtain reliable results.\n",
      "Setting `pad_token_id` to `eos_token_id`:50256 for open-end generation.\n",
      "The attention mask and the pad token id were not set. As a consequence, you may observe unexpected behavior. Please pass your input's `attention_mask` to obtain reliable results.\n",
      "Setting `pad_token_id` to `eos_token_id`:50256 for open-end generation.\n",
      " 50%|██████████████████████████████████████████▌                                          | 1/2 [00:24<00:24, 24.45s/it]The attention mask and the pad token id were not set. As a consequence, you may observe unexpected behavior. Please pass your input's `attention_mask` to obtain reliable results.\n",
      "Setting `pad_token_id` to `eos_token_id`:50256 for open-end generation.\n",
      "The attention mask and the pad token id were not set. As a consequence, you may observe unexpected behavior. Please pass your input's `attention_mask` to obtain reliable results.\n",
      "Setting `pad_token_id` to `eos_token_id`:50256 for open-end generation.\n",
      "The attention mask and the pad token id were not set. As a consequence, you may observe unexpected behavior. Please pass your input's `attention_mask` to obtain reliable results.\n",
      "Setting `pad_token_id` to `eos_token_id`:50256 for open-end generation.\n",
      "100%|█████████████████████████████████████████████████████████████████████████████████████| 2/2 [00:49<00:00, 24.62s/it]\n"
     ]
    }
   ],
   "source": [
    "analyzes = poem_collection.analyze(analysis_generator)"
   ]
  },
  {
   "cell_type": "code",
   "execution_count": 27,
   "id": "e25d0ffa",
   "metadata": {},
   "outputs": [],
   "source": [
    "poem_collection.save_poem_with_analyzes(save_path='test_analyzed_poems.txt', sep='\\n#####\\n')"
   ]
  },
  {
   "cell_type": "markdown",
   "id": "53c974d0",
   "metadata": {},
   "source": [
    "Несмотря на то, что эксплицитно никто не форматировал новые поэмы в latex, сохранить в латехе можно все равно;  \n",
    "Функция сначала отформатирует нужную часть."
   ]
  },
  {
   "cell_type": "code",
   "execution_count": 28,
   "id": "50655f78",
   "metadata": {},
   "outputs": [],
   "source": [
    "poem_collection.save_to_latex(save_path='test_to_latext.txt')"
   ]
  }
 ],
 "metadata": {
  "kernelspec": {
   "display_name": "Python 3 (ipykernel)",
   "language": "python",
   "name": "python3"
  },
  "language_info": {
   "codemirror_mode": {
    "name": "ipython",
    "version": 3
   },
   "file_extension": ".py",
   "mimetype": "text/x-python",
   "name": "python",
   "nbconvert_exporter": "python",
   "pygments_lexer": "ipython3",
   "version": "3.9.0"
  }
 },
 "nbformat": 4,
 "nbformat_minor": 5
}
