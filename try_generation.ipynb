{
 "cells": [
  {
   "cell_type": "code",
   "execution_count": 1,
   "id": "bf242027",
   "metadata": {
    "scrolled": true
   },
   "outputs": [],
   "source": [
    "from pipeline import PoemCollection\n",
    "from poem_generation import PoemGenerator\n",
    "from analysis_generation import AnalysisStartGenerator, GPTJAnalysisGenerator\n",
    "from variables import TOKEN, POEM_START_MODEL_ID, POEM_CONTINUE_MODEL_ID, ANALYSIS_START_MODEL_ID"
   ]
  },
  {
   "cell_type": "markdown",
   "id": "ac2fa61d",
   "metadata": {},
   "source": [
    "### Generate a Poem"
   ]
  },
  {
   "cell_type": "code",
   "execution_count": 2,
   "id": "195b02f8",
   "metadata": {},
   "outputs": [],
   "source": [
    "poem_generator = PoemGenerator(TOKEN,  POEM_START_MODEL_ID, POEM_CONTINUE_MODEL_ID, make_longer=True)"
   ]
  },
  {
   "cell_type": "code",
   "execution_count": 3,
   "id": "bea48d06",
   "metadata": {},
   "outputs": [],
   "source": [
    "test_poem = poem_generator.generate_full(stanza_nums=4)"
   ]
  },
  {
   "cell_type": "code",
   "execution_count": 4,
   "id": "4b48b1ac",
   "metadata": {},
   "outputs": [
    {
     "name": "stdout",
     "output_type": "stream",
     "text": [
      "I. It was my birthday,\n",
      "And as I opened his cage,\n",
      "A dove sang to me.\n",
      "II. You can't buy a birdcage\n",
      "With flowers, you know.\n",
      "\n",
      "But, oh, how beautiful!\n",
      "III. In the springtime\n",
      "Of life, I wonder why,\n",
      "I love to see\n",
      "The little birds flying,\n",
      "Flying from the trees.\n",
      "\n",
      "IV. On a bright spring morning\n",
      "Sitting in a garden,\n",
      "Watching the birds,\n",
      "All in the trees,\n",
      "It seems to me there is\n",
      "Nothing so beautiful.\n",
      "\n",
      "I shall begin here,\n",
      "But where?\n",
      "In a dream I go\n",
      "A-walking by the lane,\n",
      "And look up and see\n",
      "The green apple trees.\n",
      "Then I wake, and think it was\n",
      "Only a dream.\n",
      "\n",
      "So I look up.\n",
      "They are still there.and then\n",
      "I know that there is no one\n",
      "To walk with me and show me the way.\n"
     ]
    }
   ],
   "source": [
    "print(test_poem)"
   ]
  },
  {
   "cell_type": "markdown",
   "id": "6d47f7b0",
   "metadata": {},
   "source": [
    "### Analyze"
   ]
  },
  {
   "cell_type": "code",
   "execution_count": 5,
   "id": "5d5c4a7a",
   "metadata": {},
   "outputs": [
    {
     "name": "stdout",
     "output_type": "stream",
     "text": [
      "GPT-J is loaded!\n"
     ]
    }
   ],
   "source": [
    "analysis_gen_start = AnalysisStartGenerator(TOKEN, ANALYSIS_START_MODEL_ID)\n",
    "analysis_gen_end = GPTJAnalysisGenerator()"
   ]
  },
  {
   "cell_type": "code",
   "execution_count": 6,
   "id": "6b36dc74",
   "metadata": {},
   "outputs": [],
   "source": [
    "test_start = analysis_gen_start.analyze_poem(test_poem)"
   ]
  },
  {
   "cell_type": "code",
   "execution_count": 7,
   "id": "bfbec593",
   "metadata": {},
   "outputs": [
    {
     "name": "stdout",
     "output_type": "stream",
     "text": [
      "The poem is about the enjoyment of the speaker on their bird living. The speaker begins his poem by announcing the birth day of his pet. He narrates how he opened the bird’s cage and found a dove inside. However the speaker says that a person cannot buy his beloved\n"
     ]
    }
   ],
   "source": [
    "print(test_start)"
   ]
  },
  {
   "cell_type": "code",
   "execution_count": 8,
   "id": "c5349c92",
   "metadata": {},
   "outputs": [
    {
     "name": "stderr",
     "output_type": "stream",
     "text": [
      "The attention mask and the pad token id were not set. As a consequence, you may observe unexpected behavior. Please pass your input's `attention_mask` to obtain reliable results.\n",
      "Setting `pad_token_id` to `eos_token_id`:50256 for open-end generation.\n",
      "The attention mask and the pad token id were not set. As a consequence, you may observe unexpected behavior. Please pass your input's `attention_mask` to obtain reliable results.\n",
      "Setting `pad_token_id` to `eos_token_id`:50256 for open-end generation.\n",
      "The attention mask and the pad token id were not set. As a consequence, you may observe unexpected behavior. Please pass your input's `attention_mask` to obtain reliable results.\n",
      "Setting `pad_token_id` to `eos_token_id`:50256 for open-end generation.\n"
     ]
    }
   ],
   "source": [
    "prompt = test_poem + '\\n\\nPoem Analysis:\\n' + test_start\n",
    "analysis = analysis_gen_end.finish_analysis(prompt)\n",
    "analysis = analysis.split('Poem Analysis:')[1].strip()"
   ]
  },
  {
   "cell_type": "code",
   "execution_count": 9,
   "id": "3b903a6f",
   "metadata": {},
   "outputs": [
    {
     "name": "stdout",
     "output_type": "stream",
     "text": [
      "The poem is about the enjoyment of the speaker on their bird living. The speaker begins his poem by announcing the birth day of his pet. He narrates how he opened the bird’s cage and found a dove inside. However the speaker says that a person cannot buy his beloved bird’s cage with roses. How unfortunate, that not many saw the real point of the poem. The speaker says that one can only see the beauty of birds when they are flying. The speaker says that he wants to see the birds fly around when his life begins to grow old. When he writes, he thinks it was only a dream. However, when he comes into the garden he finds that the birds are still there.\n",
      "\n",
      "The poem is written in the first person. The first person tells the reader what they are going to do in a dramatic way. Ultimately, the speaker tells the reader what they are going to do in the beginning. He tells the reader to look at the birds in the trees in order to understand the beauty which is in nature.\n"
     ]
    }
   ],
   "source": [
    "print(analysis)"
   ]
  },
  {
   "cell_type": "markdown",
   "id": "94602a39",
   "metadata": {},
   "source": [
    "### Try the Pipeline"
   ]
  },
  {
   "cell_type": "code",
   "execution_count": 10,
   "id": "68b4703b",
   "metadata": {
    "scrolled": false
   },
   "outputs": [
    {
     "name": "stderr",
     "output_type": "stream",
     "text": [
      "100%|█████████████████████████████████████████████████████████████████████████████████████| 2/2 [00:56<00:00, 28.04s/it]"
     ]
    },
    {
     "name": "stdout",
     "output_type": "stream",
     "text": [
      "Generated all 2 poems!\n"
     ]
    },
    {
     "name": "stderr",
     "output_type": "stream",
     "text": [
      "\n"
     ]
    }
   ],
   "source": [
    "poem_collection = PoemCollection(n=2, poem_generator=poem_generator)"
   ]
  },
  {
   "cell_type": "code",
   "execution_count": 11,
   "id": "8ff1f049",
   "metadata": {},
   "outputs": [
    {
     "name": "stdout",
     "output_type": "stream",
     "text": [
      "Poem №1\n",
      "THE EGG! Oh, if he had the egg of the world in his hand, \n",
      "And all men’s souls in that one egg, what .....\n",
      "----\n",
      "Poem №2\n",
      "I saw that her face was blue.\n",
      "There was a purple smear\n",
      "And white veins showing from her head.\n",
      "I saw .....\n",
      "----\n"
     ]
    }
   ],
   "source": [
    "for i, poem in enumerate(poem_collection.poems):\n",
    "    print(f\"Poem №{i+1}\")\n",
    "    print(poem[:100] + '.....')\n",
    "    print('----')"
   ]
  },
  {
   "cell_type": "markdown",
   "id": "e161e3a2",
   "metadata": {},
   "source": [
    "Анализа поэм пока нет, поэтому некоторые функции выдадут ошибки"
   ]
  },
  {
   "cell_type": "code",
   "execution_count": 12,
   "id": "da09c532",
   "metadata": {},
   "outputs": [
    {
     "data": {
      "text/plain": [
       "[]"
      ]
     },
     "execution_count": 12,
     "metadata": {},
     "output_type": "execute_result"
    }
   ],
   "source": [
    "poem_collection.analyzes"
   ]
  },
  {
   "cell_type": "code",
   "execution_count": 13,
   "id": "9a3459d8",
   "metadata": {},
   "outputs": [
    {
     "ename": "Exception",
     "evalue": "No analyzes yet!",
     "output_type": "error",
     "traceback": [
      "\u001b[0;31m---------------------------------------------------------------------------\u001b[0m",
      "\u001b[0;31mException\u001b[0m                                 Traceback (most recent call last)",
      "\u001b[0;32m/tmp/ipykernel_2981679/3381228699.py\u001b[0m in \u001b[0;36m<module>\u001b[0;34m\u001b[0m\n\u001b[0;32m----> 1\u001b[0;31m \u001b[0mpoem_collection\u001b[0m\u001b[0;34m.\u001b[0m\u001b[0msave_analyzes\u001b[0m\u001b[0;34m(\u001b[0m\u001b[0msave_path\u001b[0m\u001b[0;34m=\u001b[0m\u001b[0;34m'fake_path.txt'\u001b[0m\u001b[0;34m,\u001b[0m \u001b[0msep\u001b[0m\u001b[0;34m=\u001b[0m\u001b[0;34m'\\n###\\n'\u001b[0m\u001b[0;34m)\u001b[0m\u001b[0;34m\u001b[0m\u001b[0;34m\u001b[0m\u001b[0m\n\u001b[0m",
      "\u001b[0;32m/cephfs/home/yashkens/NoMeaning/pipeline.py\u001b[0m in \u001b[0;36msave_analyzes\u001b[0;34m(self, save_path, sep)\u001b[0m\n\u001b[1;32m     27\u001b[0m     \u001b[0;32mdef\u001b[0m \u001b[0msave_analyzes\u001b[0m\u001b[0;34m(\u001b[0m\u001b[0mself\u001b[0m\u001b[0;34m,\u001b[0m \u001b[0msave_path\u001b[0m\u001b[0;34m,\u001b[0m \u001b[0msep\u001b[0m\u001b[0;34m)\u001b[0m \u001b[0;34m->\u001b[0m \u001b[0;32mNone\u001b[0m\u001b[0;34m:\u001b[0m\u001b[0;34m\u001b[0m\u001b[0;34m\u001b[0m\u001b[0m\n\u001b[1;32m     28\u001b[0m         \u001b[0;32mif\u001b[0m \u001b[0mlen\u001b[0m\u001b[0;34m(\u001b[0m\u001b[0mself\u001b[0m\u001b[0;34m.\u001b[0m\u001b[0manalyzes\u001b[0m\u001b[0;34m)\u001b[0m \u001b[0;34m!=\u001b[0m \u001b[0mself\u001b[0m\u001b[0;34m.\u001b[0m\u001b[0mn\u001b[0m\u001b[0;34m:\u001b[0m\u001b[0;34m\u001b[0m\u001b[0;34m\u001b[0m\u001b[0m\n\u001b[0;32m---> 29\u001b[0;31m             \u001b[0;32mraise\u001b[0m \u001b[0mException\u001b[0m\u001b[0;34m(\u001b[0m\u001b[0;34m\"No analyzes yet!\"\u001b[0m\u001b[0;34m)\u001b[0m\u001b[0;34m\u001b[0m\u001b[0;34m\u001b[0m\u001b[0m\n\u001b[0m\u001b[1;32m     30\u001b[0m         \u001b[0;32mwith\u001b[0m \u001b[0mopen\u001b[0m\u001b[0;34m(\u001b[0m\u001b[0msave_path\u001b[0m\u001b[0;34m,\u001b[0m \u001b[0;34m'w'\u001b[0m\u001b[0;34m,\u001b[0m \u001b[0mencoding\u001b[0m\u001b[0;34m=\u001b[0m\u001b[0;34m'utf-8'\u001b[0m\u001b[0;34m)\u001b[0m \u001b[0;32mas\u001b[0m \u001b[0mf\u001b[0m\u001b[0;34m:\u001b[0m\u001b[0;34m\u001b[0m\u001b[0;34m\u001b[0m\u001b[0m\n\u001b[1;32m     31\u001b[0m             \u001b[0mf\u001b[0m\u001b[0;34m.\u001b[0m\u001b[0mwrite\u001b[0m\u001b[0;34m(\u001b[0m\u001b[0msep\u001b[0m\u001b[0;34m.\u001b[0m\u001b[0mjoin\u001b[0m\u001b[0;34m(\u001b[0m\u001b[0mself\u001b[0m\u001b[0;34m.\u001b[0m\u001b[0manalyzes\u001b[0m\u001b[0;34m)\u001b[0m\u001b[0;34m)\u001b[0m\u001b[0;34m\u001b[0m\u001b[0;34m\u001b[0m\u001b[0m\n",
      "\u001b[0;31mException\u001b[0m: No analyzes yet!"
     ]
    }
   ],
   "source": [
    "poem_collection.save_analyzes(save_path='fake_path.txt', sep='\\n###\\n')"
   ]
  },
  {
   "cell_type": "code",
   "execution_count": 14,
   "id": "77e6cbdc",
   "metadata": {},
   "outputs": [
    {
     "ename": "Exception",
     "evalue": "Can't format a latex file without analyzes!",
     "output_type": "error",
     "traceback": [
      "\u001b[0;31m---------------------------------------------------------------------------\u001b[0m",
      "\u001b[0;31mException\u001b[0m                                 Traceback (most recent call last)",
      "\u001b[0;32m/tmp/ipykernel_2981679/2391492225.py\u001b[0m in \u001b[0;36m<module>\u001b[0;34m\u001b[0m\n\u001b[0;32m----> 1\u001b[0;31m \u001b[0mpoem_collection\u001b[0m\u001b[0;34m.\u001b[0m\u001b[0msave_to_latex\u001b[0m\u001b[0;34m(\u001b[0m\u001b[0msave_path\u001b[0m\u001b[0;34m=\u001b[0m\u001b[0;34m'fake_path.txt'\u001b[0m\u001b[0;34m)\u001b[0m\u001b[0;34m\u001b[0m\u001b[0;34m\u001b[0m\u001b[0m\n\u001b[0m",
      "\u001b[0;32m/cephfs/home/yashkens/NoMeaning/pipeline.py\u001b[0m in \u001b[0;36msave_to_latex\u001b[0;34m(self, save_path)\u001b[0m\n\u001b[1;32m     40\u001b[0m     \u001b[0;32mdef\u001b[0m \u001b[0msave_to_latex\u001b[0m\u001b[0;34m(\u001b[0m\u001b[0mself\u001b[0m\u001b[0;34m,\u001b[0m \u001b[0msave_path\u001b[0m\u001b[0;34m)\u001b[0m \u001b[0;34m->\u001b[0m \u001b[0;32mNone\u001b[0m\u001b[0;34m:\u001b[0m\u001b[0;34m\u001b[0m\u001b[0;34m\u001b[0m\u001b[0m\n\u001b[1;32m     41\u001b[0m         \u001b[0;32mif\u001b[0m \u001b[0mlen\u001b[0m\u001b[0;34m(\u001b[0m\u001b[0mself\u001b[0m\u001b[0;34m.\u001b[0m\u001b[0mlatex_texts\u001b[0m\u001b[0;34m)\u001b[0m \u001b[0;34m==\u001b[0m \u001b[0;36m0\u001b[0m\u001b[0;34m:\u001b[0m\u001b[0;34m\u001b[0m\u001b[0;34m\u001b[0m\u001b[0m\n\u001b[0;32m---> 42\u001b[0;31m             \u001b[0mself\u001b[0m\u001b[0;34m.\u001b[0m\u001b[0mformat_into_latex\u001b[0m\u001b[0;34m(\u001b[0m\u001b[0;34m)\u001b[0m\u001b[0;34m\u001b[0m\u001b[0;34m\u001b[0m\u001b[0m\n\u001b[0m\u001b[1;32m     43\u001b[0m         \u001b[0mfull_latex\u001b[0m \u001b[0;34m=\u001b[0m \u001b[0;34m'\\n\\n\\\\newpage\\n\\n'\u001b[0m\u001b[0;34m.\u001b[0m\u001b[0mjoin\u001b[0m\u001b[0;34m(\u001b[0m\u001b[0mself\u001b[0m\u001b[0;34m.\u001b[0m\u001b[0mlatex_texts\u001b[0m\u001b[0;34m)\u001b[0m\u001b[0;34m\u001b[0m\u001b[0;34m\u001b[0m\u001b[0m\n\u001b[1;32m     44\u001b[0m         \u001b[0;32mwith\u001b[0m \u001b[0mopen\u001b[0m\u001b[0;34m(\u001b[0m\u001b[0msave_path\u001b[0m\u001b[0;34m,\u001b[0m \u001b[0;34m'w'\u001b[0m\u001b[0;34m,\u001b[0m \u001b[0mencoding\u001b[0m\u001b[0;34m=\u001b[0m\u001b[0;34m'utf-8'\u001b[0m\u001b[0;34m)\u001b[0m \u001b[0;32mas\u001b[0m \u001b[0mf\u001b[0m\u001b[0;34m:\u001b[0m\u001b[0;34m\u001b[0m\u001b[0;34m\u001b[0m\u001b[0m\n",
      "\u001b[0;32m/cephfs/home/yashkens/NoMeaning/pipeline.py\u001b[0m in \u001b[0;36mformat_into_latex\u001b[0;34m(self)\u001b[0m\n\u001b[1;32m     62\u001b[0m     \u001b[0;32mdef\u001b[0m \u001b[0mformat_into_latex\u001b[0m\u001b[0;34m(\u001b[0m\u001b[0mself\u001b[0m\u001b[0;34m)\u001b[0m \u001b[0;34m->\u001b[0m \u001b[0;32mNone\u001b[0m\u001b[0;34m:\u001b[0m\u001b[0;34m\u001b[0m\u001b[0;34m\u001b[0m\u001b[0m\n\u001b[1;32m     63\u001b[0m         \u001b[0;32mif\u001b[0m \u001b[0mlen\u001b[0m\u001b[0;34m(\u001b[0m\u001b[0mself\u001b[0m\u001b[0;34m.\u001b[0m\u001b[0manalyzes\u001b[0m\u001b[0;34m)\u001b[0m \u001b[0;34m!=\u001b[0m \u001b[0mself\u001b[0m\u001b[0;34m.\u001b[0m\u001b[0mn\u001b[0m\u001b[0;34m:\u001b[0m\u001b[0;34m\u001b[0m\u001b[0;34m\u001b[0m\u001b[0m\n\u001b[0;32m---> 64\u001b[0;31m             \u001b[0;32mraise\u001b[0m \u001b[0mException\u001b[0m\u001b[0;34m(\u001b[0m\u001b[0;34m\"Can't format a latex file without analyzes!\"\u001b[0m\u001b[0;34m)\u001b[0m\u001b[0;34m\u001b[0m\u001b[0;34m\u001b[0m\u001b[0m\n\u001b[0m\u001b[1;32m     65\u001b[0m \u001b[0;34m\u001b[0m\u001b[0m\n\u001b[1;32m     66\u001b[0m         \u001b[0;32mfor\u001b[0m \u001b[0mi\u001b[0m \u001b[0;32min\u001b[0m \u001b[0mtqdm\u001b[0m\u001b[0;34m(\u001b[0m\u001b[0mrange\u001b[0m\u001b[0;34m(\u001b[0m\u001b[0mself\u001b[0m\u001b[0;34m.\u001b[0m\u001b[0mn\u001b[0m\u001b[0;34m)\u001b[0m\u001b[0;34m)\u001b[0m\u001b[0;34m:\u001b[0m\u001b[0;34m\u001b[0m\u001b[0;34m\u001b[0m\u001b[0m\n",
      "\u001b[0;31mException\u001b[0m: Can't format a latex file without analyzes!"
     ]
    }
   ],
   "source": [
    "poem_collection.save_to_latex(save_path='fake_path.txt')"
   ]
  },
  {
   "cell_type": "markdown",
   "id": "b2e718c1",
   "metadata": {},
   "source": [
    "Сгенерируем комментарии к поэмам"
   ]
  },
  {
   "cell_type": "code",
   "execution_count": 15,
   "id": "e4c55ce8",
   "metadata": {},
   "outputs": [
    {
     "name": "stderr",
     "output_type": "stream",
     "text": [
      "  0%|                                                                                             | 0/2 [00:00<?, ?it/s]The attention mask and the pad token id were not set. As a consequence, you may observe unexpected behavior. Please pass your input's `attention_mask` to obtain reliable results.\n",
      "Setting `pad_token_id` to `eos_token_id`:50256 for open-end generation.\n",
      "The attention mask and the pad token id were not set. As a consequence, you may observe unexpected behavior. Please pass your input's `attention_mask` to obtain reliable results.\n",
      "Setting `pad_token_id` to `eos_token_id`:50256 for open-end generation.\n",
      "The attention mask and the pad token id were not set. As a consequence, you may observe unexpected behavior. Please pass your input's `attention_mask` to obtain reliable results.\n",
      "Setting `pad_token_id` to `eos_token_id`:50256 for open-end generation.\n",
      " 50%|██████████████████████████████████████████▌                                          | 1/2 [00:25<00:25, 25.57s/it]The attention mask and the pad token id were not set. As a consequence, you may observe unexpected behavior. Please pass your input's `attention_mask` to obtain reliable results.\n",
      "Setting `pad_token_id` to `eos_token_id`:50256 for open-end generation.\n",
      "The attention mask and the pad token id were not set. As a consequence, you may observe unexpected behavior. Please pass your input's `attention_mask` to obtain reliable results.\n",
      "Setting `pad_token_id` to `eos_token_id`:50256 for open-end generation.\n",
      "The attention mask and the pad token id were not set. As a consequence, you may observe unexpected behavior. Please pass your input's `attention_mask` to obtain reliable results.\n",
      "Setting `pad_token_id` to `eos_token_id`:50256 for open-end generation.\n",
      "100%|█████████████████████████████████████████████████████████████████████████████████████| 2/2 [00:43<00:00, 21.76s/it]"
     ]
    },
    {
     "name": "stdout",
     "output_type": "stream",
     "text": [
      "Generated all 2 analyzes!\n"
     ]
    },
    {
     "name": "stderr",
     "output_type": "stream",
     "text": [
      "\n"
     ]
    }
   ],
   "source": [
    "poem_collection.analyze((analysis_gen_start, analysis_gen_end))"
   ]
  },
  {
   "cell_type": "code",
   "execution_count": 27,
   "id": "d10ee6b0",
   "metadata": {},
   "outputs": [
    {
     "name": "stdout",
     "output_type": "stream",
     "text": [
      "Analysis for Poem №1\n",
      "The speaker begins the poem with a simple question, “What if the Egg of the World were in your hand?.....\n",
      "----\n",
      "Analysis for Poem №2\n",
      "This piece is about a man’s romantic encounter with a young girl he calls “the most beautiful girl i.....\n",
      "----\n"
     ]
    }
   ],
   "source": [
    "for i, poem in enumerate(poem_collection.analyzes):\n",
    "    print(f\"Analysis for Poem №{i+1}\")\n",
    "    print(poem[:100] + '.....')\n",
    "    print('----')"
   ]
  },
  {
   "cell_type": "markdown",
   "id": "cbe01ffc",
   "metadata": {},
   "source": [
    "getitem выдает сразу и поэмы и анализ, если он есть"
   ]
  },
  {
   "cell_type": "code",
   "execution_count": 22,
   "id": "a04ab7a4",
   "metadata": {},
   "outputs": [
    {
     "name": "stdout",
     "output_type": "stream",
     "text": [
      "THE EGG! Oh, if he had the egg of the world in his hand, \n",
      "And all men’s souls in that one egg, what a thing it would be! The sun would move with the one, and in the\n",
      "\n",
      "One day would make the world. Let us not forget our dream;\n",
      "\n",
      "The dream you gave me, \n",
      "You who look in at the window and sing\n",
      "\n",
      "I am the wind that blows \n",
      "Wherever you may go, I shall be with you there. The wind that is you and me --\n",
      "\n",
      "We shall blow together.\n",
      "\n",
      "Analysis:\n",
      "\n",
      "The speaker begins the poem with a simple question, “What if the Egg of the World were in your hand?” We may ask why such thought pops up in the mind of someone when he sees the beautiful and colorful world around him. The answer the speaker gives is related to the way the world looks to him as he is “the wind that blows”. It suggests that the wind might be a part of the speaker: it blows where he may go. It saddens me, that not many understand the connection between the wind and the speaker.\n",
      "\n",
      "The second part of the poem focuses on the speaker’s vision of the world – the sun moving with the one. This is the one “thing” he desires, and at the same time he would wish the sun to move with him. One cannot imagine the sun moving with him, but such vision of the world is created by the speaker. It is a vision of a world filled with happiness. To wrap up, the speaker states that it would be great to have one day the sun and the world together. It is a grand vision of the world in one day.\n",
      "\n",
      "The speaker is probably a part of the wind, and so he is part of the world.\n"
     ]
    }
   ],
   "source": [
    "p, a = poem_collection[0]\n",
    "print(p)\n",
    "print('\\nAnalysis:\\n')\n",
    "print(a)"
   ]
  },
  {
   "cell_type": "markdown",
   "id": "385367ff",
   "metadata": {},
   "source": [
    "Попробуем все сохранить в файлы"
   ]
  },
  {
   "cell_type": "code",
   "execution_count": 24,
   "id": "1d6e2a50",
   "metadata": {},
   "outputs": [],
   "source": [
    "poem_collection.save_poems(save_path='test_poems.txt', sep='\\n#####\\n')\n",
    "poem_collection.save_analyzes(save_path='test_analyzes.txt', sep='\\n#####\\n')\n",
    "poem_collection.save_poem_with_analyzes(save_path='test_analyzed_poems.txt', sep='\\n#####\\n')"
   ]
  },
  {
   "cell_type": "markdown",
   "id": "12197cd4",
   "metadata": {},
   "source": [
    "Подготовим все в latex формате"
   ]
  },
  {
   "cell_type": "code",
   "execution_count": null,
   "id": "173a3612",
   "metadata": {},
   "outputs": [],
   "source": [
    "poem_collection.latex_texts"
   ]
  },
  {
   "cell_type": "code",
   "execution_count": 25,
   "id": "b616b7f1",
   "metadata": {},
   "outputs": [
    {
     "name": "stderr",
     "output_type": "stream",
     "text": [
      "100%|████████████████████████████████████████████████████████████████████████████████████| 2/2 [00:00<00:00, 280.00it/s]\n"
     ]
    }
   ],
   "source": [
    "poem_collection.format_into_latex()"
   ]
  },
  {
   "cell_type": "code",
   "execution_count": 28,
   "id": "c53d02d9",
   "metadata": {},
   "outputs": [
    {
     "name": "stdout",
     "output_type": "stream",
     "text": [
      "Latex text №1\n",
      "\\begin{center}\n",
      "\\\\\\textit{THE EGG! Oh, if he had the egg of the world in his hand, }\n",
      "\\\\\\textit{And al.....\n",
      "----\n",
      "Latex text №2\n",
      "\\begin{center}\n",
      "\\\\\\textit{I saw that her face was blue.}\n",
      "\\\\\\textit{There was a purple smear}\n",
      "\\\\\\texti.....\n",
      "----\n"
     ]
    }
   ],
   "source": [
    "for i, poem in enumerate(poem_collection.latex_texts):\n",
    "    print(f\"Latex text №{i+1}\")\n",
    "    print(poem[:100] + '.....')\n",
    "    print('----')"
   ]
  },
  {
   "cell_type": "markdown",
   "id": "e0b007c7",
   "metadata": {},
   "source": [
    "Можем сохранить в latex формате в текстовый файл, только перенести в редактор его придется самостоятельно.  \n",
    "(функция сохранения генерирует latex формат, если он еще не был сконструирован)"
   ]
  },
  {
   "cell_type": "code",
   "execution_count": 30,
   "id": "ba951de4",
   "metadata": {},
   "outputs": [],
   "source": [
    "poem_collection.save_to_latex(save_path='test_to_latex.txt')"
   ]
  }
 ],
 "metadata": {
  "kernelspec": {
   "display_name": "Python 3 (ipykernel)",
   "language": "python",
   "name": "python3"
  },
  "language_info": {
   "codemirror_mode": {
    "name": "ipython",
    "version": 3
   },
   "file_extension": ".py",
   "mimetype": "text/x-python",
   "name": "python",
   "nbconvert_exporter": "python",
   "pygments_lexer": "ipython3",
   "version": "3.9.0"
  }
 },
 "nbformat": 4,
 "nbformat_minor": 5
}
