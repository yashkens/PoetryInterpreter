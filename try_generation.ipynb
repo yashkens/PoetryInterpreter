{
 "cells": [
  {
   "cell_type": "code",
   "execution_count": 6,
   "id": "dbd89a72",
   "metadata": {
    "scrolled": true
   },
   "outputs": [],
   "source": [
    "from pipeline import PoemCollection\n",
    "from poem_generation import PoemGenerator\n",
    "from analysis_generation import AnalysisGenerator\n",
    "from variables import TOKEN, POEM_START_MODEL_ID, POEM_CONTINUE_MODEL_ID, ANALYSIS_START_MODEL_ID"
   ]
  },
  {
   "cell_type": "markdown",
   "id": "3670e877",
   "metadata": {},
   "source": [
    "### Генерируем поэму"
   ]
  },
  {
   "cell_type": "code",
   "execution_count": 7,
   "id": "23f4dc3d",
   "metadata": {},
   "outputs": [],
   "source": [
    "poem_generator = PoemGenerator(TOKEN, POEM_START_MODEL_ID, POEM_CONTINUE_MODEL_ID, make_longer=True)"
   ]
  },
  {
   "cell_type": "code",
   "execution_count": 9,
   "id": "fd7b7320",
   "metadata": {},
   "outputs": [],
   "source": [
    "# help(PoemGenerator)"
   ]
  },
  {
   "cell_type": "code",
   "execution_count": 12,
   "id": "1b284668",
   "metadata": {},
   "outputs": [
    {
     "name": "stderr",
     "output_type": "stream",
     "text": [
      "INFO: Executing function generate_poem...\n",
      "INFO: Generating stanza №1...\n",
      "INFO: Generating stanza №2...\n",
      "INFO: Generating stanza №3...\n",
      "INFO: Generating stanza №4...\n",
      "INFO: Generating stanza №5...\n",
      "INFO: Execution of function generate_poem took 24.69s.\n"
     ]
    }
   ],
   "source": [
    "test_poem = poem_generator.generate_poem(stanza_nums=5)"
   ]
  },
  {
   "cell_type": "code",
   "execution_count": 13,
   "id": "69173a56",
   "metadata": {},
   "outputs": [
    {
     "name": "stdout",
     "output_type": "stream",
     "text": [
      "I have loved people;\n",
      "I have lived,\n",
      "Fate with me has lived;\n",
      "When she is gone,\n",
      "Nothing is here.\n",
      "All that I could call mine,\n",
      "Is gone;\n",
      "One lives alone;\n",
      "\n",
      "All that is left is Love.\n",
      "She stands beside me,\n",
      "Her face so fair,\n",
      "A woman in her prime;\n",
      "\n",
      "Her body like a garden of gold.\n",
      "The moon-light lies on her hair,\n",
      "On her bosom and her neck;\n",
      "She holds out her arms to me with pity.\n",
      "\n",
      "I kiss her white mouth and eyes,\n",
      "Her long yellow hair that flows,\n",
      "A river full of water;\n",
      "\n",
      "Her arms and hands and throat,\n",
      "As white and round as shells,\n",
      "I kiss and kiss and press them,For she is mine, she is my own.\n"
     ]
    }
   ],
   "source": [
    "print(test_poem)"
   ]
  },
  {
   "cell_type": "markdown",
   "id": "a6943d7c",
   "metadata": {},
   "source": [
    "### Проанализируем поэму"
   ]
  },
  {
   "cell_type": "code",
   "execution_count": 16,
   "id": "5940ed93",
   "metadata": {},
   "outputs": [
    {
     "name": "stderr",
     "output_type": "stream",
     "text": [
      "INFO: Loading GPT-J...\n",
      "INFO: GPT-J is loaded!\n"
     ]
    }
   ],
   "source": [
    "analysis_generator = AnalysisGenerator(TOKEN, ANALYSIS_START_MODEL_ID)"
   ]
  },
  {
   "cell_type": "code",
   "execution_count": 17,
   "id": "b0e6fd9c",
   "metadata": {},
   "outputs": [
    {
     "name": "stderr",
     "output_type": "stream",
     "text": [
      "INFO: Executing function generate_analysis...\n",
      "INFO: Starting analysis...\n",
      "INFO: Finishing analysis...\n",
      "The attention mask and the pad token id were not set. As a consequence, you may observe unexpected behavior. Please pass your input's `attention_mask` to obtain reliable results.\n",
      "Setting `pad_token_id` to `eos_token_id`:50256 for open-end generation.\n",
      "The attention mask and the pad token id were not set. As a consequence, you may observe unexpected behavior. Please pass your input's `attention_mask` to obtain reliable results.\n",
      "Setting `pad_token_id` to `eos_token_id`:50256 for open-end generation.\n",
      "The attention mask and the pad token id were not set. As a consequence, you may observe unexpected behavior. Please pass your input's `attention_mask` to obtain reliable results.\n",
      "Setting `pad_token_id` to `eos_token_id`:50256 for open-end generation.\n",
      "INFO: Execution of function generate_analysis took 18.69s.\n"
     ]
    }
   ],
   "source": [
    "test_analysis = analysis_generator.generate_analysis(test_poem)"
   ]
  },
  {
   "cell_type": "code",
   "execution_count": 18,
   "id": "0ab9aec0",
   "metadata": {},
   "outputs": [
    {
     "name": "stdout",
     "output_type": "stream",
     "text": [
      "This poem celebrates the beauty and love of a married life. The poem begins when the author says, “I was born this way; I loved people, while Fate was with me.” He believes that all his experiences are because of her; he calls her by the name of Fate. This poet who wants to marry her says that only Love is left. It's unfair, that the poem was not appreciated because the author was married. If not, the poet would still be alive, and the poet would be free to marry her. The poet describes a woman with gold hair, fair face, white body, and long arms. He describes her as his own, and asks for her mercy to forgive his sin. In short, the poet is asking for forgiveness, and wanting to be forgiven.\n"
     ]
    }
   ],
   "source": [
    "print(test_analysis)"
   ]
  },
  {
   "cell_type": "markdown",
   "id": "f9024cd7",
   "metadata": {},
   "source": [
    "### Попробуем это все в пайплайне"
   ]
  },
  {
   "cell_type": "code",
   "execution_count": 20,
   "id": "79870dd7",
   "metadata": {},
   "outputs": [],
   "source": [
    "# help(PoemCollection)"
   ]
  },
  {
   "cell_type": "code",
   "execution_count": 21,
   "id": "f7c11f41",
   "metadata": {
    "scrolled": false
   },
   "outputs": [
    {
     "name": "stdout",
     "output_type": "stream",
     "text": [
      "Поэм пока нет: []\n"
     ]
    }
   ],
   "source": [
    "poem_collection = PoemCollection()\n",
    "\n",
    "print(f'Поэм пока нет: {poem_collection.poems}')"
   ]
  },
  {
   "cell_type": "code",
   "execution_count": 22,
   "id": "8a2a5727",
   "metadata": {},
   "outputs": [
    {
     "name": "stderr",
     "output_type": "stream",
     "text": [
      "  0%|                                                                                             | 0/2 [00:00<?, ?it/s]INFO: Executing function generate_poem...\n",
      "INFO: Generating stanza №1...\n",
      "INFO: Generating stanza №2...\n",
      "INFO: Generating stanza №3...\n",
      "INFO: Generating stanza №4...\n",
      "INFO: Execution of function generate_poem took 17.84s.\n",
      " 50%|██████████████████████████████████████████▌                                          | 1/2 [00:17<00:17, 17.84s/it]INFO: Executing function generate_poem...\n",
      "INFO: Generating stanza №1...\n",
      "INFO: Generating stanza №2...\n",
      "INFO: Generating stanza №3...\n",
      "INFO: Generating stanza №4...\n",
      "INFO: Execution of function generate_poem took 20.06s.\n",
      "100%|█████████████████████████████████████████████████████████████████████████████████████| 2/2 [00:37<00:00, 18.95s/it]\n"
     ]
    }
   ],
   "source": [
    "poems = poem_collection.add_poems(num=2, poem_generator=poem_generator)"
   ]
  },
  {
   "cell_type": "code",
   "execution_count": 25,
   "id": "580ab768",
   "metadata": {},
   "outputs": [
    {
     "name": "stdout",
     "output_type": "stream",
     "text": [
      "Poem №1\n",
      "A few miles from the town \n",
      "a forest spreads. \n",
      "There is a small lake \n",
      "where birches grow.\n",
      "\n",
      "The trees .....\n",
      "----\n",
      "Poem №2\n",
      "I wish we were back again\n",
      "In our first garden,\n",
      "Our first young summer, before\n",
      "The green world was ma.....\n",
      "----\n"
     ]
    }
   ],
   "source": [
    "for i, poem in enumerate(poem_collection.poems):\n",
    "    print(f\"Poem №{i+1}\")\n",
    "    print(poem[:100] + '.....')\n",
    "    print('----')"
   ]
  },
  {
   "cell_type": "code",
   "execution_count": 24,
   "id": "5c65bb9a",
   "metadata": {},
   "outputs": [
    {
     "name": "stdout",
     "output_type": "stream",
     "text": [
      "Длина коллекции поэм: 2\n"
     ]
    }
   ],
   "source": [
    "print(f\"Длина коллекции поэм: {len(poem_collection)}\")"
   ]
  },
  {
   "cell_type": "markdown",
   "id": "8c3327a3",
   "metadata": {},
   "source": [
    "Мы еще не просили проанализировать добавленные поэмы, поэтому некоторые функции выдадут ошибки;  \n",
    "Комментарии к поэмам не публичны, но мы все равно посмотрим, что их нет:"
   ]
  },
  {
   "cell_type": "code",
   "execution_count": 26,
   "id": "b5949a08",
   "metadata": {},
   "outputs": [
    {
     "data": {
      "text/plain": [
       "[]"
      ]
     },
     "execution_count": 26,
     "metadata": {},
     "output_type": "execute_result"
    }
   ],
   "source": [
    "poem_collection._analyzes"
   ]
  },
  {
   "cell_type": "code",
   "execution_count": 27,
   "id": "bc887098",
   "metadata": {},
   "outputs": [
    {
     "ename": "Exception",
     "evalue": "Number of analyzes is not equal to number of poems!\nPoems: 2; Analyzes: 0",
     "output_type": "error",
     "traceback": [
      "\u001b[0;31m---------------------------------------------------------------------------\u001b[0m",
      "\u001b[0;31mException\u001b[0m                                 Traceback (most recent call last)",
      "\u001b[0;32m/tmp/ipykernel_3130331/2776676202.py\u001b[0m in \u001b[0;36m<module>\u001b[0;34m\u001b[0m\n\u001b[0;32m----> 1\u001b[0;31m \u001b[0mpoem_collection\u001b[0m\u001b[0;34m.\u001b[0m\u001b[0mformat_into_latex\u001b[0m\u001b[0;34m(\u001b[0m\u001b[0;34m)\u001b[0m\u001b[0;34m\u001b[0m\u001b[0;34m\u001b[0m\u001b[0m\n\u001b[0m",
      "\u001b[0;32m/cephfs/home/yashkens/NoMeaning/pipeline.py\u001b[0m in \u001b[0;36mformat_into_latex\u001b[0;34m(self)\u001b[0m\n\u001b[1;32m    101\u001b[0m         \"\"\"\n\u001b[1;32m    102\u001b[0m         \u001b[0;32mif\u001b[0m \u001b[0mlen\u001b[0m\u001b[0;34m(\u001b[0m\u001b[0mself\u001b[0m\u001b[0;34m.\u001b[0m\u001b[0m_analyzes\u001b[0m\u001b[0;34m)\u001b[0m \u001b[0;34m!=\u001b[0m \u001b[0mlen\u001b[0m\u001b[0;34m(\u001b[0m\u001b[0mself\u001b[0m\u001b[0;34m.\u001b[0m\u001b[0mpoems\u001b[0m\u001b[0;34m)\u001b[0m\u001b[0;34m:\u001b[0m\u001b[0;34m\u001b[0m\u001b[0;34m\u001b[0m\u001b[0m\n\u001b[0;32m--> 103\u001b[0;31m             raise Exception(f\"Number of analyzes is not equal to number of poems!\\n\"\n\u001b[0m\u001b[1;32m    104\u001b[0m                             f\"Poems: {len(self.poems) }; Analyzes: {len(self._analyzes)}\")\n\u001b[1;32m    105\u001b[0m \u001b[0;34m\u001b[0m\u001b[0m\n",
      "\u001b[0;31mException\u001b[0m: Number of analyzes is not equal to number of poems!\nPoems: 2; Analyzes: 0"
     ]
    }
   ],
   "source": [
    "poem_collection.format_into_latex()"
   ]
  },
  {
   "cell_type": "code",
   "execution_count": 28,
   "id": "39d4abf5",
   "metadata": {},
   "outputs": [
    {
     "ename": "Exception",
     "evalue": "Number of analyzes is not equal to number of poems!\nPoems: 2; Analyzes: 0",
     "output_type": "error",
     "traceback": [
      "\u001b[0;31m---------------------------------------------------------------------------\u001b[0m",
      "\u001b[0;31mException\u001b[0m                                 Traceback (most recent call last)",
      "\u001b[0;32m/tmp/ipykernel_3130331/2391492225.py\u001b[0m in \u001b[0;36m<module>\u001b[0;34m\u001b[0m\n\u001b[0;32m----> 1\u001b[0;31m \u001b[0mpoem_collection\u001b[0m\u001b[0;34m.\u001b[0m\u001b[0msave_to_latex\u001b[0m\u001b[0;34m(\u001b[0m\u001b[0msave_path\u001b[0m\u001b[0;34m=\u001b[0m\u001b[0;34m'fake_path.txt'\u001b[0m\u001b[0;34m)\u001b[0m\u001b[0;34m\u001b[0m\u001b[0;34m\u001b[0m\u001b[0m\n\u001b[0m",
      "\u001b[0;32m/cephfs/home/yashkens/NoMeaning/pipeline.py\u001b[0m in \u001b[0;36msave_to_latex\u001b[0;34m(self, save_path)\u001b[0m\n\u001b[1;32m     75\u001b[0m         \"\"\"\n\u001b[1;32m     76\u001b[0m         \u001b[0;32mif\u001b[0m \u001b[0mlen\u001b[0m\u001b[0;34m(\u001b[0m\u001b[0mself\u001b[0m\u001b[0;34m.\u001b[0m\u001b[0m_latex_texts\u001b[0m\u001b[0;34m)\u001b[0m \u001b[0;34m!=\u001b[0m \u001b[0mlen\u001b[0m\u001b[0;34m(\u001b[0m\u001b[0mself\u001b[0m\u001b[0;34m.\u001b[0m\u001b[0mpoems\u001b[0m\u001b[0;34m)\u001b[0m\u001b[0;34m:\u001b[0m\u001b[0;34m\u001b[0m\u001b[0;34m\u001b[0m\u001b[0m\n\u001b[0;32m---> 77\u001b[0;31m             \u001b[0mself\u001b[0m\u001b[0;34m.\u001b[0m\u001b[0mformat_into_latex\u001b[0m\u001b[0;34m(\u001b[0m\u001b[0;34m)\u001b[0m\u001b[0;34m\u001b[0m\u001b[0;34m\u001b[0m\u001b[0m\n\u001b[0m\u001b[1;32m     78\u001b[0m         \u001b[0mfull_latex\u001b[0m \u001b[0;34m=\u001b[0m \u001b[0;34m'\\n\\n\\\\newpage\\n\\n'\u001b[0m\u001b[0;34m.\u001b[0m\u001b[0mjoin\u001b[0m\u001b[0;34m(\u001b[0m\u001b[0mself\u001b[0m\u001b[0;34m.\u001b[0m\u001b[0m_latex_texts\u001b[0m\u001b[0;34m)\u001b[0m\u001b[0;34m\u001b[0m\u001b[0;34m\u001b[0m\u001b[0m\n\u001b[1;32m     79\u001b[0m         \u001b[0;32mwith\u001b[0m \u001b[0mopen\u001b[0m\u001b[0;34m(\u001b[0m\u001b[0msave_path\u001b[0m\u001b[0;34m,\u001b[0m \u001b[0;34m'w'\u001b[0m\u001b[0;34m,\u001b[0m \u001b[0mencoding\u001b[0m\u001b[0;34m=\u001b[0m\u001b[0;34m'utf-8'\u001b[0m\u001b[0;34m)\u001b[0m \u001b[0;32mas\u001b[0m \u001b[0mf\u001b[0m\u001b[0;34m:\u001b[0m\u001b[0;34m\u001b[0m\u001b[0;34m\u001b[0m\u001b[0m\n",
      "\u001b[0;32m/cephfs/home/yashkens/NoMeaning/pipeline.py\u001b[0m in \u001b[0;36mformat_into_latex\u001b[0;34m(self)\u001b[0m\n\u001b[1;32m    101\u001b[0m         \"\"\"\n\u001b[1;32m    102\u001b[0m         \u001b[0;32mif\u001b[0m \u001b[0mlen\u001b[0m\u001b[0;34m(\u001b[0m\u001b[0mself\u001b[0m\u001b[0;34m.\u001b[0m\u001b[0m_analyzes\u001b[0m\u001b[0;34m)\u001b[0m \u001b[0;34m!=\u001b[0m \u001b[0mlen\u001b[0m\u001b[0;34m(\u001b[0m\u001b[0mself\u001b[0m\u001b[0;34m.\u001b[0m\u001b[0mpoems\u001b[0m\u001b[0;34m)\u001b[0m\u001b[0;34m:\u001b[0m\u001b[0;34m\u001b[0m\u001b[0;34m\u001b[0m\u001b[0m\n\u001b[0;32m--> 103\u001b[0;31m             raise Exception(f\"Number of analyzes is not equal to number of poems!\\n\"\n\u001b[0m\u001b[1;32m    104\u001b[0m                             f\"Poems: {len(self.poems) }; Analyzes: {len(self._analyzes)}\")\n\u001b[1;32m    105\u001b[0m \u001b[0;34m\u001b[0m\u001b[0m\n",
      "\u001b[0;31mException\u001b[0m: Number of analyzes is not equal to number of poems!\nPoems: 2; Analyzes: 0"
     ]
    }
   ],
   "source": [
    "poem_collection.save_to_latex(save_path='fake_path.txt')"
   ]
  },
  {
   "cell_type": "markdown",
   "id": "b6a210db",
   "metadata": {},
   "source": [
    "Сгенерируем комментарии к поэмам"
   ]
  },
  {
   "cell_type": "code",
   "execution_count": 29,
   "id": "afc445db",
   "metadata": {},
   "outputs": [
    {
     "name": "stderr",
     "output_type": "stream",
     "text": [
      "  0%|                                                                                             | 0/2 [00:00<?, ?it/s]INFO: Executing function generate_analysis...\n",
      "INFO: Starting analysis...\n",
      "INFO: Finishing analysis...\n",
      "The attention mask and the pad token id were not set. As a consequence, you may observe unexpected behavior. Please pass your input's `attention_mask` to obtain reliable results.\n",
      "Setting `pad_token_id` to `eos_token_id`:50256 for open-end generation.\n",
      "The attention mask and the pad token id were not set. As a consequence, you may observe unexpected behavior. Please pass your input's `attention_mask` to obtain reliable results.\n",
      "Setting `pad_token_id` to `eos_token_id`:50256 for open-end generation.\n",
      "The attention mask and the pad token id were not set. As a consequence, you may observe unexpected behavior. Please pass your input's `attention_mask` to obtain reliable results.\n",
      "Setting `pad_token_id` to `eos_token_id`:50256 for open-end generation.\n",
      "INFO: Execution of function generate_analysis took 28.63s.\n",
      " 50%|██████████████████████████████████████████▌                                          | 1/2 [00:28<00:28, 28.63s/it]INFO: Executing function generate_analysis...\n",
      "INFO: Starting analysis...\n",
      "INFO: Finishing analysis...\n",
      "The attention mask and the pad token id were not set. As a consequence, you may observe unexpected behavior. Please pass your input's `attention_mask` to obtain reliable results.\n",
      "Setting `pad_token_id` to `eos_token_id`:50256 for open-end generation.\n",
      "The attention mask and the pad token id were not set. As a consequence, you may observe unexpected behavior. Please pass your input's `attention_mask` to obtain reliable results.\n",
      "Setting `pad_token_id` to `eos_token_id`:50256 for open-end generation.\n",
      "The attention mask and the pad token id were not set. As a consequence, you may observe unexpected behavior. Please pass your input's `attention_mask` to obtain reliable results.\n",
      "Setting `pad_token_id` to `eos_token_id`:50256 for open-end generation.\n",
      "INFO: Execution of function generate_analysis took 25.52s.\n",
      "100%|█████████████████████████████████████████████████████████████████████████████████████| 2/2 [00:54<00:00, 27.07s/it]\n"
     ]
    }
   ],
   "source": [
    "analyzes = poem_collection.analyze(analysis_generator)"
   ]
  },
  {
   "cell_type": "code",
   "execution_count": 30,
   "id": "3d15375b",
   "metadata": {},
   "outputs": [
    {
     "name": "stdout",
     "output_type": "stream",
     "text": [
      "Analysis for Poem №1\n",
      "The poem centers on a beautiful forest. As the poet moves through the forest, he begins to see a tre.....\n",
      "----\n",
      "Analysis for Poem №2\n",
      "The writer addresses his beloved and admits that their dreams once seemed like the world that existe.....\n",
      "----\n"
     ]
    }
   ],
   "source": [
    "for i, poem in enumerate(analyzes):\n",
    "    print(f\"Analysis for Poem №{i+1}\")\n",
    "    print(poem[:100] + '.....')\n",
    "    print('----')"
   ]
  },
  {
   "cell_type": "markdown",
   "id": "3f8245cd",
   "metadata": {},
   "source": [
    "Попробуем все сохранить в файлы"
   ]
  },
  {
   "cell_type": "code",
   "execution_count": 32,
   "id": "774a127e",
   "metadata": {},
   "outputs": [],
   "source": [
    "poem_collection.save_poems(save_path='test_poems.txt', sep='\\n#####\\n')\n",
    "poem_collection.save_analyzes(save_path='test_analyzes.txt', sep='\\n#####\\n')\n",
    "poem_collection.save_poem_with_analyzes(save_path='test_analyzed_poems.txt', sep='\\n#####\\n')"
   ]
  },
  {
   "cell_type": "markdown",
   "id": "659d74a4",
   "metadata": {},
   "source": [
    "Подготовим все в latex формате"
   ]
  },
  {
   "cell_type": "code",
   "execution_count": 33,
   "id": "d5355c64",
   "metadata": {},
   "outputs": [
    {
     "data": {
      "text/plain": [
       "[]"
      ]
     },
     "execution_count": 33,
     "metadata": {},
     "output_type": "execute_result"
    }
   ],
   "source": [
    "poem_collection._latex_texts"
   ]
  },
  {
   "cell_type": "code",
   "execution_count": 34,
   "id": "88634579",
   "metadata": {},
   "outputs": [
    {
     "name": "stderr",
     "output_type": "stream",
     "text": [
      "100%|████████████████████████████████████████████████████████████████████████████████████| 2/2 [00:00<00:00, 252.92it/s]\n"
     ]
    }
   ],
   "source": [
    "latex_format_texts = poem_collection.format_into_latex()"
   ]
  },
  {
   "cell_type": "code",
   "execution_count": 35,
   "id": "c309bf91",
   "metadata": {},
   "outputs": [
    {
     "name": "stdout",
     "output_type": "stream",
     "text": [
      "Latex text №1\n",
      "\\begin{center}\n",
      "\\\\\\textit{A few miles from the town }\n",
      "\\\\\\textit{a forest spreads. }\n",
      "\\\\\\textit{There i.....\n",
      "----\n",
      "Latex text №2\n",
      "\\begin{center}\n",
      "\\\\\\textit{I wish we were back again}\n",
      "\\\\\\textit{In our first garden,}\n",
      "\\\\\\textit{Our fi.....\n",
      "----\n"
     ]
    }
   ],
   "source": [
    "for i, poem in enumerate(latex_format_texts):\n",
    "    print(f\"Latex text №{i+1}\")\n",
    "    print(poem[:100] + '.....')\n",
    "    print('----')"
   ]
  },
  {
   "cell_type": "markdown",
   "id": "c9a77725",
   "metadata": {},
   "source": [
    "Можем сохранить в latex формате в текстовый файл, только перенести в редактор его придется самостоятельно.  \n",
    "(функция сохранения генерирует latex формат, если он еще не был сконструирован)"
   ]
  },
  {
   "cell_type": "code",
   "execution_count": 36,
   "id": "8949b876",
   "metadata": {},
   "outputs": [],
   "source": [
    "poem_collection.save_to_latex(save_path='test_to_latex.txt')"
   ]
  },
  {
   "cell_type": "markdown",
   "id": "11c403cb",
   "metadata": {},
   "source": [
    "Можно добавить еще поэм, если нужно;  \n",
    "Функция вернет только новые поэмы"
   ]
  },
  {
   "cell_type": "code",
   "execution_count": 37,
   "id": "0491036f",
   "metadata": {},
   "outputs": [
    {
     "name": "stderr",
     "output_type": "stream",
     "text": [
      "  0%|                                                                                             | 0/2 [00:00<?, ?it/s]INFO: Executing function generate_poem...\n",
      "INFO: Generating stanza №1...\n",
      "INFO: Generating stanza №2...\n",
      "INFO: Generating stanza №3...\n",
      "INFO: Generating stanza №4...\n",
      "INFO: Execution of function generate_poem took 19.59s.\n",
      " 50%|██████████████████████████████████████████▌                                          | 1/2 [00:19<00:19, 19.59s/it]INFO: Executing function generate_poem...\n",
      "INFO: Generating stanza №1...\n",
      "INFO: Generating stanza №2...\n",
      "INFO: Generating stanza №3...\n",
      "INFO: Generating stanza №4...\n",
      "INFO: Execution of function generate_poem took 16.58s.\n",
      "100%|█████████████████████████████████████████████████████████████████████████████████████| 2/2 [00:36<00:00, 18.09s/it]\n"
     ]
    }
   ],
   "source": [
    "poems = poem_collection.add_poems(num=2, poem_generator=poem_generator)"
   ]
  },
  {
   "cell_type": "code",
   "execution_count": 38,
   "id": "127d4055",
   "metadata": {},
   "outputs": [
    {
     "name": "stdout",
     "output_type": "stream",
     "text": [
      "Поэм всего: 4\n",
      "Новых поэм: 2\n"
     ]
    }
   ],
   "source": [
    "print(f\"Поэм всего: {len(poem_collection)}\")\n",
    "print(f\"Новых поэм: {len(poems)}\")"
   ]
  },
  {
   "cell_type": "markdown",
   "id": "a54e7483",
   "metadata": {},
   "source": [
    "Функции, в которых нужно использовать анализ поэм, дадут ошибку, потому что анализ на новые поэмы мы не сделали"
   ]
  },
  {
   "cell_type": "code",
   "execution_count": 39,
   "id": "dec4ac3a",
   "metadata": {},
   "outputs": [
    {
     "ename": "Exception",
     "evalue": "Number of analyzes is not equal to number of poems!\nPoems: 4; Analyzes: 2",
     "output_type": "error",
     "traceback": [
      "\u001b[0;31m---------------------------------------------------------------------------\u001b[0m",
      "\u001b[0;31mException\u001b[0m                                 Traceback (most recent call last)",
      "\u001b[0;32m/tmp/ipykernel_3130331/482664753.py\u001b[0m in \u001b[0;36m<module>\u001b[0;34m\u001b[0m\n\u001b[0;32m----> 1\u001b[0;31m \u001b[0mpoem_collection\u001b[0m\u001b[0;34m.\u001b[0m\u001b[0msave_poem_with_analyzes\u001b[0m\u001b[0;34m(\u001b[0m\u001b[0msave_path\u001b[0m\u001b[0;34m=\u001b[0m\u001b[0;34m'fake_test.txt'\u001b[0m\u001b[0;34m,\u001b[0m \u001b[0msep\u001b[0m\u001b[0;34m=\u001b[0m\u001b[0;34m'\\n#####\\n'\u001b[0m\u001b[0;34m)\u001b[0m\u001b[0;34m\u001b[0m\u001b[0;34m\u001b[0m\u001b[0m\n\u001b[0m",
      "\u001b[0;32m/cephfs/home/yashkens/NoMeaning/pipeline.py\u001b[0m in \u001b[0;36msave_poem_with_analyzes\u001b[0;34m(self, save_path, sep)\u001b[0m\n\u001b[1;32m     63\u001b[0m         \"\"\"\n\u001b[1;32m     64\u001b[0m         \u001b[0;32mif\u001b[0m \u001b[0mlen\u001b[0m\u001b[0;34m(\u001b[0m\u001b[0mself\u001b[0m\u001b[0;34m.\u001b[0m\u001b[0m_analyzes\u001b[0m\u001b[0;34m)\u001b[0m \u001b[0;34m!=\u001b[0m \u001b[0mlen\u001b[0m\u001b[0;34m(\u001b[0m\u001b[0mself\u001b[0m\u001b[0;34m.\u001b[0m\u001b[0mpoems\u001b[0m\u001b[0;34m)\u001b[0m\u001b[0;34m:\u001b[0m\u001b[0;34m\u001b[0m\u001b[0;34m\u001b[0m\u001b[0m\n\u001b[0;32m---> 65\u001b[0;31m             raise Exception(f\"Number of analyzes is not equal to number of poems!\\n\"\n\u001b[0m\u001b[1;32m     66\u001b[0m                             f\"Poems: {len(self.poems) }; Analyzes: {len(self._analyzes)}\")\n\u001b[1;32m     67\u001b[0m         \u001b[0mtexts\u001b[0m \u001b[0;34m=\u001b[0m \u001b[0;34m[\u001b[0m\u001b[0mself\u001b[0m\u001b[0;34m.\u001b[0m\u001b[0mpoems\u001b[0m\u001b[0;34m[\u001b[0m\u001b[0mi\u001b[0m\u001b[0;34m]\u001b[0m \u001b[0;34m+\u001b[0m \u001b[0;34m'\\n\\nPoem Analysis:\\n\\n'\u001b[0m \u001b[0;34m+\u001b[0m \u001b[0mself\u001b[0m\u001b[0;34m.\u001b[0m\u001b[0m_analyzes\u001b[0m\u001b[0;34m[\u001b[0m\u001b[0mi\u001b[0m\u001b[0;34m]\u001b[0m \u001b[0;32mfor\u001b[0m \u001b[0mi\u001b[0m \u001b[0;32min\u001b[0m \u001b[0mrange\u001b[0m\u001b[0;34m(\u001b[0m\u001b[0mself\u001b[0m\u001b[0;34m.\u001b[0m\u001b[0mn\u001b[0m\u001b[0;34m)\u001b[0m\u001b[0;34m]\u001b[0m\u001b[0;34m\u001b[0m\u001b[0;34m\u001b[0m\u001b[0m\n",
      "\u001b[0;31mException\u001b[0m: Number of analyzes is not equal to number of poems!\nPoems: 4; Analyzes: 2"
     ]
    }
   ],
   "source": [
    "poem_collection.save_poem_with_analyzes(save_path='fake_test.txt', sep='\\n#####\\n')"
   ]
  },
  {
   "cell_type": "markdown",
   "id": "d361d74b",
   "metadata": {},
   "source": [
    "Сгенерируем комментарии к новым поэмам"
   ]
  },
  {
   "cell_type": "code",
   "execution_count": 40,
   "id": "25c059a0",
   "metadata": {},
   "outputs": [
    {
     "name": "stderr",
     "output_type": "stream",
     "text": [
      "  0%|                                                                                             | 0/2 [00:00<?, ?it/s]INFO: Executing function generate_analysis...\n",
      "INFO: Starting analysis...\n",
      "INFO: Finishing analysis...\n",
      "The attention mask and the pad token id were not set. As a consequence, you may observe unexpected behavior. Please pass your input's `attention_mask` to obtain reliable results.\n",
      "Setting `pad_token_id` to `eos_token_id`:50256 for open-end generation.\n",
      "The attention mask and the pad token id were not set. As a consequence, you may observe unexpected behavior. Please pass your input's `attention_mask` to obtain reliable results.\n",
      "Setting `pad_token_id` to `eos_token_id`:50256 for open-end generation.\n",
      "The attention mask and the pad token id were not set. As a consequence, you may observe unexpected behavior. Please pass your input's `attention_mask` to obtain reliable results.\n",
      "Setting `pad_token_id` to `eos_token_id`:50256 for open-end generation.\n",
      "INFO: Execution of function generate_analysis took 26.53s.\n",
      " 50%|██████████████████████████████████████████▌                                          | 1/2 [00:26<00:26, 26.53s/it]INFO: Executing function generate_analysis...\n",
      "INFO: Starting analysis...\n",
      "INFO: Finishing analysis...\n",
      "The attention mask and the pad token id were not set. As a consequence, you may observe unexpected behavior. Please pass your input's `attention_mask` to obtain reliable results.\n",
      "Setting `pad_token_id` to `eos_token_id`:50256 for open-end generation.\n",
      "The attention mask and the pad token id were not set. As a consequence, you may observe unexpected behavior. Please pass your input's `attention_mask` to obtain reliable results.\n",
      "Setting `pad_token_id` to `eos_token_id`:50256 for open-end generation.\n",
      "The attention mask and the pad token id were not set. As a consequence, you may observe unexpected behavior. Please pass your input's `attention_mask` to obtain reliable results.\n",
      "Setting `pad_token_id` to `eos_token_id`:50256 for open-end generation.\n",
      "INFO: Execution of function generate_analysis took 23.75s.\n",
      "100%|█████████████████████████████████████████████████████████████████████████████████████| 2/2 [00:50<00:00, 25.14s/it]\n"
     ]
    }
   ],
   "source": [
    "analyzes = poem_collection.analyze(analysis_generator)"
   ]
  },
  {
   "cell_type": "code",
   "execution_count": 41,
   "id": "e25d0ffa",
   "metadata": {},
   "outputs": [],
   "source": [
    "poem_collection.save_poem_with_analyzes(save_path='test_analyzed_poems.txt', sep='\\n#####\\n')"
   ]
  },
  {
   "cell_type": "markdown",
   "id": "53c974d0",
   "metadata": {},
   "source": [
    "Несмотря на то, что эксплицитно никто не форматировал новые поэмы в latex, сохранить в латехе можно все равно;  \n",
    "Функция сначала отформатирует нужную часть."
   ]
  },
  {
   "cell_type": "code",
   "execution_count": 42,
   "id": "50655f78",
   "metadata": {},
   "outputs": [
    {
     "name": "stderr",
     "output_type": "stream",
     "text": [
      "100%|████████████████████████████████████████████████████████████████████████████████████| 2/2 [00:00<00:00, 287.07it/s]\n"
     ]
    }
   ],
   "source": [
    "poem_collection.save_to_latex(save_path='test_to_latext.txt')"
   ]
  },
  {
   "cell_type": "markdown",
   "id": "c3a3072d",
   "metadata": {},
   "source": [
    "### Тесты"
   ]
  },
  {
   "cell_type": "code",
   "execution_count": 4,
   "id": "573a45db",
   "metadata": {},
   "outputs": [],
   "source": [
    "import unittest\n",
    "from test import TestPipeline"
   ]
  },
  {
   "cell_type": "code",
   "execution_count": 5,
   "id": "fa3a1739",
   "metadata": {},
   "outputs": [
    {
     "name": "stderr",
     "output_type": "stream",
     "text": [
      "INFO: Setting up the class...\n",
      "INFO: Setting up variables for tests...\n",
      "INFO: Testing Latex formatting...\n",
      "INFO: Loading GPT-J...\n",
      "INFO: GPT-J is loaded!\n",
      "  0%|                                                                                             | 0/2 [00:00<?, ?it/s]INFO: Executing function generate_poem...\n",
      "INFO: Generating stanza №1...\n",
      "INFO: Generating stanza №2...\n",
      "INFO: Generating stanza №3...\n",
      "INFO: Generating stanza №4...\n",
      "INFO: Execution of function generate_poem took 20.64s.\n",
      " 50%|██████████████████████████████████████████▌                                          | 1/2 [00:20<00:20, 20.64s/it]INFO: Executing function generate_poem...\n",
      "INFO: Generating stanza №1...\n",
      "INFO: Generating stanza №2...\n",
      "INFO: Generating stanza №3...\n",
      "INFO: Generating stanza №4...\n",
      "INFO: Execution of function generate_poem took 18.40s.\n",
      "100%|█████████████████████████████████████████████████████████████████████████████████████| 2/2 [00:39<00:00, 19.52s/it]\n",
      "  0%|                                                                                             | 0/2 [00:00<?, ?it/s]INFO: Executing function generate_analysis...\n",
      "INFO: Starting analysis...\n",
      "INFO: Finishing analysis...\n",
      "The attention mask and the pad token id were not set. As a consequence, you may observe unexpected behavior. Please pass your input's `attention_mask` to obtain reliable results.\n",
      "Setting `pad_token_id` to `eos_token_id`:50256 for open-end generation.\n",
      "The attention mask and the pad token id were not set. As a consequence, you may observe unexpected behavior. Please pass your input's `attention_mask` to obtain reliable results.\n",
      "Setting `pad_token_id` to `eos_token_id`:50256 for open-end generation.\n",
      "The attention mask and the pad token id were not set. As a consequence, you may observe unexpected behavior. Please pass your input's `attention_mask` to obtain reliable results.\n",
      "Setting `pad_token_id` to `eos_token_id`:50256 for open-end generation.\n",
      "INFO: Execution of function generate_analysis took 26.61s.\n",
      " 50%|██████████████████████████████████████████▌                                          | 1/2 [00:26<00:26, 26.61s/it]INFO: Executing function generate_analysis...\n",
      "INFO: Starting analysis...\n",
      "INFO: Finishing analysis...\n",
      "The attention mask and the pad token id were not set. As a consequence, you may observe unexpected behavior. Please pass your input's `attention_mask` to obtain reliable results.\n",
      "Setting `pad_token_id` to `eos_token_id`:50256 for open-end generation.\n",
      "The attention mask and the pad token id were not set. As a consequence, you may observe unexpected behavior. Please pass your input's `attention_mask` to obtain reliable results.\n",
      "Setting `pad_token_id` to `eos_token_id`:50256 for open-end generation.\n",
      "The attention mask and the pad token id were not set. As a consequence, you may observe unexpected behavior. Please pass your input's `attention_mask` to obtain reliable results.\n",
      "Setting `pad_token_id` to `eos_token_id`:50256 for open-end generation.\n",
      "INFO: Execution of function generate_analysis took 25.13s.\n",
      "100%|█████████████████████████████████████████████████████████████████████████████████████| 2/2 [00:51<00:00, 25.87s/it]\n",
      "100%|████████████████████████████████████████████████████████████████████████████████████| 2/2 [00:00<00:00, 162.83it/s]\n",
      "INFO: Tearing down...\n",
      "INFO: Cleaning up...\n",
      ".INFO: Setting up variables for tests...\n",
      "INFO: Testing Poem Generation...\n",
      "  0%|                                                                                             | 0/2 [00:00<?, ?it/s]INFO: Executing function generate_poem...\n",
      "INFO: Generating stanza №1...\n",
      "INFO: Generating stanza №2...\n",
      "INFO: Generating stanza №3...\n",
      "INFO: Generating stanza №4...\n",
      "INFO: Execution of function generate_poem took 19.10s.\n",
      " 50%|██████████████████████████████████████████▌                                          | 1/2 [00:19<00:19, 19.11s/it]INFO: Executing function generate_poem...\n",
      "INFO: Generating stanza №1...\n",
      "INFO: Generating stanza №2...\n",
      "INFO: Generating stanza №3...\n",
      "INFO: Generating stanza №4...\n",
      "INFO: Execution of function generate_poem took 18.83s.\n",
      "100%|█████████████████████████████████████████████████████████████████████████████████████| 2/2 [00:37<00:00, 18.97s/it]\n",
      "  0%|                                                                                             | 0/1 [00:00<?, ?it/s]INFO: Executing function generate_poem...\n",
      "INFO: Generating stanza №1...\n",
      "INFO: Generating stanza №2...\n",
      "INFO: Generating stanza №3...\n",
      "INFO: Generating stanza №4...\n",
      "INFO: Execution of function generate_poem took 22.73s.\n",
      "100%|█████████████████████████████████████████████████████████████████████████████████████| 1/1 [00:22<00:00, 22.73s/it]\n",
      "INFO: Tearing down...\n",
      "INFO: Cleaning up...\n",
      ".\n",
      "----------------------------------------------------------------------\n",
      "Ran 2 tests in 323.481s\n",
      "\n",
      "OK\n"
     ]
    },
    {
     "data": {
      "text/plain": [
       "<unittest.runner.TextTestResult run=2 errors=0 failures=0>"
      ]
     },
     "execution_count": 5,
     "metadata": {},
     "output_type": "execute_result"
    }
   ],
   "source": [
    "suite = unittest.TestLoader().loadTestsFromTestCase(TestPipeline)\n",
    "unittest.TextTestRunner(verbosity=1).run(suite)"
   ]
  }
 ],
 "metadata": {
  "kernelspec": {
   "display_name": "Python 3 (ipykernel)",
   "language": "python",
   "name": "python3"
  },
  "language_info": {
   "codemirror_mode": {
    "name": "ipython",
    "version": 3
   },
   "file_extension": ".py",
   "mimetype": "text/x-python",
   "name": "python",
   "nbconvert_exporter": "python",
   "pygments_lexer": "ipython3",
   "version": "3.9.0"
  }
 },
 "nbformat": 4,
 "nbformat_minor": 5
}
